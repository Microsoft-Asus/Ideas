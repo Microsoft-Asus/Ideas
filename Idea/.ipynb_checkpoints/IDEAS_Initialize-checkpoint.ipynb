{
 "metadata": {
  "name": ""
 },
 "nbformat": 3,
 "nbformat_minor": 0,
 "worksheets": [
  {
   "cells": [
    {
     "cell_type": "heading",
     "level": 1,
     "metadata": {},
     "source": [
      "Initialization of all the necessary modules"
     ]
    },
    {
     "cell_type": "code",
     "collapsed": false,
     "input": [
      "%pylab inline\n",
      "%config InlineBackend.figure_format = 'svg'\n",
      "\n",
      "import backend  # holds classes and functions implemented to date\n",
      "import os       # used to get the current working directory\n",
      "import nltk\n",
      "import time     # Used in one of the default questions to answer"
     ],
     "language": "python",
     "metadata": {},
     "outputs": [
      {
       "output_type": "stream",
       "stream": "stdout",
       "text": [
        "Populating the interactive namespace from numpy and matplotlib\n"
       ]
      }
     ],
     "prompt_number": 4
    },
    {
     "cell_type": "markdown",
     "metadata": {},
     "source": [
      "If there would be anything wrong we would get an error message saying what is the problem that we are facing."
     ]
    },
    {
     "cell_type": "code",
     "collapsed": false,
     "input": [
      "reload(backend)"
     ],
     "language": "python",
     "metadata": {},
     "outputs": [
      {
       "metadata": {},
       "output_type": "pyout",
       "prompt_number": 5,
       "text": [
        "<module 'backend' from 'backend.pyc'>"
       ]
      }
     ],
     "prompt_number": 5
    },
    {
     "cell_type": "code",
     "collapsed": false,
     "input": [
      "reload(nltk)"
     ],
     "language": "python",
     "metadata": {},
     "outputs": [
      {
       "metadata": {},
       "output_type": "pyout",
       "prompt_number": 7,
       "text": [
        "<module 'nltk' from 'C:\\Users\\vladimir\\Anaconda\\lib\\site-packages\\nltk\\__init__.pyc'>"
       ]
      }
     ],
     "prompt_number": 7
    },
    {
     "cell_type": "markdown",
     "metadata": {},
     "source": [
      "DataManager takes care of all the data importing. "
     ]
    },
    {
     "cell_type": "code",
     "collapsed": false,
     "input": [
      "manager = backend.DataManager()\n"
     ],
     "language": "python",
     "metadata": {},
     "outputs": [],
     "prompt_number": 8
    },
    {
     "cell_type": "markdown",
     "metadata": {},
     "source": [
      "DataAnalyzer takes care of functions that could be used during analysis."
     ]
    },
    {
     "cell_type": "code",
     "collapsed": false,
     "input": [
      "analyzer = backend.DataAnalyzer()"
     ],
     "language": "python",
     "metadata": {},
     "outputs": [],
     "prompt_number": 9
    },
    {
     "cell_type": "heading",
     "level": 1,
     "metadata": {},
     "source": [
      "Reading the data"
     ]
    },
    {
     "cell_type": "markdown",
     "metadata": {},
     "source": [
      "First we ask DataMananager to import of all the csv gimlet files into the in-memory SQLite3 database for our further use. (As a matter of fact, it is also possible to use any other SQL complient database for that purpose). It would iterate over all the files in the specified folder and load any '.csv' files that is finds."
     ]
    },
    {
     "cell_type": "code",
     "collapsed": false,
     "input": [
      "data = manager.import_data(os.path.join(os.getcwd(), 'dataset')) \n",
      "con  = manager.save_data_to_db(data)"
     ],
     "language": "python",
     "metadata": {},
     "outputs": [
      {
       "output_type": "stream",
       "stream": "stdout",
       "text": [
        "\n",
        "Reading input data files from C:\\Users\\vladimir\\Documents\\GitHub\\Ideas\\Idea\\dataset\n",
        "Found GimletDownload2012_07.csv ... 2595  records imported\n",
        "Found GimletDownload2012_08.csv ... 3672  records imported\n",
        "Found GimletDownload2012_09.csv ... "
       ]
      },
      {
       "output_type": "stream",
       "stream": "stdout",
       "text": [
        "3817  records imported\n",
        "Found GimletDownload2012_10.csv ... "
       ]
      },
      {
       "output_type": "stream",
       "stream": "stdout",
       "text": [
        "13595  records imported\n",
        "Found GimletDownload2012_11.csv ... "
       ]
      },
      {
       "output_type": "stream",
       "stream": "stdout",
       "text": [
        "14737  records imported\n",
        "Found GimletDownload2012_12.csv ... 9696  records imported\n",
        "Found GimletDownload2013_01.csv ... "
       ]
      },
      {
       "output_type": "stream",
       "stream": "stdout",
       "text": [
        "5820  records imported\n",
        "Found GimletDownload2013_02.csv ... 9599  records imported\n",
        "\n",
        "Creating database layout...\n",
        "Table created.\n",
        "\n",
        "Inserting data into database...\n",
        "Done."
       ]
      },
      {
       "output_type": "stream",
       "stream": "stdout",
       "text": [
        "\n"
       ]
      }
     ],
     "prompt_number": 10
    },
    {
     "cell_type": "markdown",
     "metadata": {},
     "source": [
      "Lets check how many entries have we loaded in total."
     ]
    },
    {
     "cell_type": "code",
     "collapsed": false,
     "input": [
      "print '\\nQuerying the total amount of rows imported'\n",
      "q = backend.QueryBuilder()\n",
      "q.limit = 0\n",
      "q.show = False\n",
      "rows = q.execute(con)\n",
      "print 'Total amount of questions imported', len(rows)"
     ],
     "language": "python",
     "metadata": {},
     "outputs": [
      {
       "output_type": "stream",
       "stream": "stdout",
       "text": [
        "Columns:  ['*']\n",
        "Conditions:  []\n",
        "Limit: 0\n",
        "Total amount of questions imported 63523\n"
       ]
      }
     ],
     "prompt_number": 16
    },
    {
     "cell_type": "heading",
     "level": 2,
     "metadata": {},
     "source": [
      "Define the inline functions for graphs"
     ]
    },
    {
     "cell_type": "code",
     "collapsed": false,
     "input": [
      "def pie_chart(info):\n",
      "    labels = [l[0] for l in info]\n",
      "    sizes = [l[1] for l in info]\n",
      "    colors = ['yellowgreen', 'gold', 'lightskyblue', 'lightcoral']\n",
      "    \n",
      "    rcParams['figure.figsize'] = 10, 10\n",
      "    \n",
      "    plt.pie(sizes, labels=labels, colors=colors,\n",
      "            autopct='%1.1f%%', shadow=True, startangle=90)\n",
      "    \n",
      "    plt.axis('equal')\n",
      "    plt.show()"
     ],
     "language": "python",
     "metadata": {},
     "outputs": []
    }
   ],
   "metadata": {}
  }
 ]
}