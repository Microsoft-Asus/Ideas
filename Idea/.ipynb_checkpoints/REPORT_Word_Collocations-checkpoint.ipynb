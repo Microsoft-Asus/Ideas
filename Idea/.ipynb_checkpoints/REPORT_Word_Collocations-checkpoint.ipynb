{
 "metadata": {
  "name": ""
 },
 "nbformat": 3,
 "nbformat_minor": 0,
 "worksheets": [
  {
   "cells": [
    {
     "cell_type": "heading",
     "level": 1,
     "metadata": {},
     "source": [
      "Finding words that frequently go together"
     ]
    },
    {
     "cell_type": "markdown",
     "metadata": {},
     "source": [
      "One may find it usefull to look at words that appear next to each other in order to understand the general purpose of majority of questions. While this information is not something that gives definitive answer to a particular question, it is still helpfull in understanding the underlying questions text body."
     ]
    },
    {
     "cell_type": "code",
     "collapsed": false,
     "input": [
      "from notebook import execute_notebook"
     ],
     "language": "python",
     "metadata": {},
     "outputs": [],
     "prompt_number": 2
    },
    {
     "cell_type": "heading",
     "level": 2,
     "metadata": {},
     "source": [
      "Before the Preprocessing Stage"
     ]
    },
    {
     "cell_type": "markdown",
     "metadata": {},
     "source": [
      "It may be usefull to compare word collocations before and after the Preprocessing stage of IDEAS. This gives us the big picture of how preprocessing may change our perception of dataset. The values of the functions may be adjusted to your needs. Frequency filter limits the minimum amount of collocations that have to happen, e.g. two words have to be found next to each other for 50 times in the example below. The second value controls the amount of results shown on screen, default is 100."
     ]
    },
    {
     "cell_type": "code",
     "collapsed": false,
     "input": [
      "execute_notebook(\"IDEAS_Initialize.ipynb\")"
     ],
     "language": "python",
     "metadata": {},
     "outputs": [
      {
       "output_type": "stream",
       "stream": "stdout",
       "text": [
        "Populating the interactive namespace from numpy and matplotlib\n"
       ]
      },
      {
       "metadata": {},
       "output_type": "pyout",
       "prompt_number": 3,
       "text": [
        "<module 'backend' from 'backend.pyc'>"
       ]
      },
      {
       "metadata": {},
       "output_type": "pyout",
       "prompt_number": 3,
       "text": [
        "<module 'nltk' from 'C:\\Users\\vladimir\\Anaconda\\lib\\site-packages\\nltk\\__init__.pyc'>"
       ]
      },
      {
       "output_type": "stream",
       "stream": "stdout",
       "text": [
        "\n",
        "Reading input data files from C:\\Users\\vladimir\\Documents\\GitHub\\Ideas\\Idea\\dataset\n",
        "Found GimletDownload2012_07.csv ... 2595  records imported\n",
        "Found GimletDownload2012_08.csv ... 3672  records imported\n",
        "Found GimletDownload2012_09.csv ... 3817  records imported\n",
        "Found GimletDownload2012_10.csv ... "
       ]
      },
      {
       "output_type": "stream",
       "stream": "stdout",
       "text": [
        "13595  records imported\n",
        "Found GimletDownload2012_11.csv ... "
       ]
      },
      {
       "output_type": "stream",
       "stream": "stdout",
       "text": [
        "14737  records imported\n",
        "Found GimletDownload2012_12.csv ... "
       ]
      },
      {
       "output_type": "stream",
       "stream": "stdout",
       "text": [
        "9696  records imported\n",
        "Found GimletDownload2013_01.csv ... 5820  records imported\n",
        "Found GimletDownload2013_02.csv ... "
       ]
      },
      {
       "output_type": "stream",
       "stream": "stdout",
       "text": [
        "9599  records imported\n",
        "\n",
        "Creating database layout...\n",
        "Table created.\n",
        "\n",
        "Inserting data into database...\n",
        "Done."
       ]
      },
      {
       "output_type": "stream",
       "stream": "stdout",
       "text": [
        "\n",
        "\n",
        "Querying the total amount of rows imported\n",
        "Columns: "
       ]
      },
      {
       "output_type": "stream",
       "stream": "stdout",
       "text": [
        " ['*']\n",
        "Conditions:  []\n",
        "Limit: 0\n",
        "Total amount of questions imported 63523\n"
       ]
      }
     ],
     "prompt_number": 3
    },
    {
     "cell_type": "code",
     "collapsed": false,
     "input": [
      "textbody = analyzer.db_get_full_text(con)\n",
      "tokens = nltk.word_tokenize(textbody)"
     ],
     "language": "python",
     "metadata": {},
     "outputs": [
      {
       "output_type": "stream",
       "stream": "stdout",
       "text": [
        "Analyzing questions text-body... Done.\n"
       ]
      }
     ],
     "prompt_number": 4
    },
    {
     "cell_type": "code",
     "collapsed": false,
     "input": [
      "bigram_measures = nltk.collocations.BigramAssocMeasures()\n",
      "finder = nltk.collocations.BigramCollocationFinder.from_words(tokens)\n",
      "finder.apply_freq_filter(50)\n",
      "finder.nbest(bigram_measures.pmi, 100) "
     ],
     "language": "python",
     "metadata": {},
     "outputs": [
      {
       "metadata": {},
       "output_type": "pyout",
       "prompt_number": 5,
       "text": [
        "[('santa', 'clara'),\n",
        " ('can', 'not'),\n",
        " ('mercury', 'news'),\n",
        " ('full', 'text'),\n",
        " ('flash', 'drive'),\n",
        " ('hear', 'mezzanine'),\n",
        " ('hear', 'mezz'),\n",
        " ('course', 'reserves'),\n",
        " ('microfiche', 'microfilm'),\n",
        " ('add', 'value'),\n",
        " ('1', 'week'),\n",
        " ('san', 'jose'),\n",
        " ('add', 'money'),\n",
        " ('san', 'francisco'),\n",
        " ('reset', 'pin'),\n",
        " ('scratch', 'paper'),\n",
        " ('jose', 'mercury'),\n",
        " ('pay', 'fines'),\n",
        " ('4', 'hour'),\n",
        " ('would', 'like'),\n",
        " ('2nd', 'floor'),\n",
        " ('study', 'rooms'),\n",
        " ('somebody', 'needs'),\n",
        " ('usb', 'drive'),\n",
        " ('close', 'today'),\n",
        " ('3rd', 'floor'),\n",
        " ('lost', 'found'),\n",
        " ('hour', 'laptop'),\n",
        " ('hour', 'ipad'),\n",
        " ('microfilm', 'machine'),\n",
        " ('checkout', '4'),\n",
        " ('copy', 'machine'),\n",
        " ('room', '225'),\n",
        " ('course', 'reserve'),\n",
        " ('study', 'room'),\n",
        " ('call', 'number'),\n",
        " ('phone', 'number'),\n",
        " ('time', 'close'),\n",
        " ('room', '213'),\n",
        " ('tower', 'card'),\n",
        " ('time', 'extension'),\n",
        " ('dont', 'know'),\n",
        " ('wanted', 'know'),\n",
        " ('apply', 'library'),\n",
        " ('customer', 'asked'),\n",
        " ('lawyers', 'library'),\n",
        " ('4', 'hours'),\n",
        " ('pin', 'number'),\n",
        " ('laptop', 'checkout'),\n",
        " ('check', '4'),\n",
        " ('help', 'finding'),\n",
        " ('reserve', 'study'),\n",
        " ('sjsu', 'student'),\n",
        " ('research', 'paper'),\n",
        " ('customer', 'wanted'),\n",
        " ('laptop', 'check'),\n",
        " ('patron', 'asked'),\n",
        " ('library', 'card'),\n",
        " ('print', 'job'),\n",
        " ('childrens', 'room'),\n",
        " ('patron', 'wanted'),\n",
        " ('computer', 'assistance'),\n",
        " ('customer', 'needed'),\n",
        " ('king', 'library'),\n",
        " ('patron', 'needed'),\n",
        " ('cant', 'find'),\n",
        " ('needed', 'help'),\n",
        " ('laptop', '4'),\n",
        " ('trying', 'find'),\n",
        " ('library', 'close'),\n",
        " ('reserve', 'computer'),\n",
        " ('print', 'usb'),\n",
        " ('looking', 'specific'),\n",
        " ('im', 'looking'),\n",
        " ('needs', 'help'),\n",
        " ('new', 'card'),\n",
        " ('need', 'help'),\n",
        " ('log', 'computer'),\n",
        " ('need', 'information'),\n",
        " ('help', 'find'),\n",
        " ('check', 'laptop'),\n",
        " ('return', 'books'),\n",
        " ('get', 'library'),\n",
        " ('patron', 'looking'),\n",
        " ('request', 'book'),\n",
        " ('find', 'book'),\n",
        " ('card', 'number'),\n",
        " ('computer', 'time'),\n",
        " ('help', 'printing'),\n",
        " ('lost', 'library'),\n",
        " ('find', 'articles'),\n",
        " ('customer', 'looking'),\n",
        " ('use', 'computer'),\n",
        " ('looking', 'book'),\n",
        " ('student', 'looking'),\n",
        " ('print', 'card'),\n",
        " ('need', 'find'),\n",
        " ('time', 'library'),\n",
        " ('find', 'books'),\n",
        " ('computer', 'use')]"
       ]
      }
     ],
     "prompt_number": 5
    },
    {
     "cell_type": "code",
     "collapsed": false,
     "input": [
      "trigram_measures = nltk.collocations.TrigramAssocMeasures()\n",
      "finder = nltk.collocations.TrigramCollocationFinder.from_words(tokens)\n",
      "finder.apply_freq_filter(50)\n",
      "finder.nbest(trigram_measures.pmi, 100) "
     ],
     "language": "python",
     "metadata": {},
     "outputs": [
      {
       "metadata": {},
       "output_type": "pyout",
       "prompt_number": 6,
       "text": [
        "[('santa', 'clara'),\n",
        " ('can', 'not'),\n",
        " ('mercury', 'news'),\n",
        " ('full', 'text'),\n",
        " ('flash', 'drive'),\n",
        " ('hear', 'mezzanine'),\n",
        " ('hear', 'mezz'),\n",
        " ('course', 'reserves'),\n",
        " ('microfiche', 'microfilm'),\n",
        " ('add', 'value'),\n",
        " ('1', 'week'),\n",
        " ('san', 'jose'),\n",
        " ('add', 'money'),\n",
        " ('san', 'francisco'),\n",
        " ('reset', 'pin'),\n",
        " ('scratch', 'paper'),\n",
        " ('jose', 'mercury'),\n",
        " ('pay', 'fines'),\n",
        " ('4', 'hour'),\n",
        " ('would', 'like'),\n",
        " ('2nd', 'floor'),\n",
        " ('study', 'rooms'),\n",
        " ('somebody', 'needs'),\n",
        " ('usb', 'drive'),\n",
        " ('close', 'today'),\n",
        " ('3rd', 'floor'),\n",
        " ('lost', 'found'),\n",
        " ('hour', 'laptop'),\n",
        " ('hour', 'ipad'),\n",
        " ('microfilm', 'machine'),\n",
        " ('checkout', '4'),\n",
        " ('copy', 'machine'),\n",
        " ('room', '225'),\n",
        " ('course', 'reserve'),\n",
        " ('study', 'room'),\n",
        " ('call', 'number'),\n",
        " ('phone', 'number'),\n",
        " ('time', 'close'),\n",
        " ('room', '213'),\n",
        " ('tower', 'card'),\n",
        " ('time', 'extension'),\n",
        " ('dont', 'know'),\n",
        " ('wanted', 'know'),\n",
        " ('apply', 'library'),\n",
        " ('customer', 'asked'),\n",
        " ('lawyers', 'library'),\n",
        " ('4', 'hours'),\n",
        " ('pin', 'number'),\n",
        " ('laptop', 'checkout'),\n",
        " ('check', '4'),\n",
        " ('help', 'finding'),\n",
        " ('reserve', 'study'),\n",
        " ('sjsu', 'student'),\n",
        " ('research', 'paper'),\n",
        " ('customer', 'wanted'),\n",
        " ('laptop', 'check'),\n",
        " ('patron', 'asked'),\n",
        " ('library', 'card'),\n",
        " ('print', 'job'),\n",
        " ('childrens', 'room'),\n",
        " ('patron', 'wanted'),\n",
        " ('computer', 'assistance'),\n",
        " ('customer', 'needed'),\n",
        " ('king', 'library'),\n",
        " ('patron', 'needed'),\n",
        " ('cant', 'find'),\n",
        " ('needed', 'help'),\n",
        " ('laptop', '4'),\n",
        " ('trying', 'find'),\n",
        " ('library', 'close'),\n",
        " ('reserve', 'computer'),\n",
        " ('print', 'usb'),\n",
        " ('looking', 'specific'),\n",
        " ('im', 'looking'),\n",
        " ('needs', 'help'),\n",
        " ('new', 'card'),\n",
        " ('need', 'help'),\n",
        " ('log', 'computer'),\n",
        " ('need', 'information'),\n",
        " ('help', 'find'),\n",
        " ('check', 'laptop'),\n",
        " ('return', 'books'),\n",
        " ('get', 'library'),\n",
        " ('patron', 'looking'),\n",
        " ('request', 'book'),\n",
        " ('find', 'book'),\n",
        " ('card', 'number'),\n",
        " ('computer', 'time'),\n",
        " ('help', 'printing'),\n",
        " ('lost', 'library'),\n",
        " ('find', 'articles'),\n",
        " ('customer', 'looking'),\n",
        " ('use', 'computer'),\n",
        " ('looking', 'book'),\n",
        " ('student', 'looking'),\n",
        " ('print', 'card'),\n",
        " ('need', 'find'),\n",
        " ('time', 'library'),\n",
        " ('find', 'books'),\n",
        " ('computer', 'use')]"
       ]
      }
     ],
     "prompt_number": "*"
    },
    {
     "cell_type": "heading",
     "level": 2,
     "metadata": {},
     "source": [
      "After the Preprocessing Stage"
     ]
    },
    {
     "cell_type": "code",
     "collapsed": false,
     "input": [
      "execute_notebook(\"IDEAS_Initialize.ipynb\")\n",
      "execute_notebook(\"IDEAS_Preprocessing_data.ipynb\")"
     ],
     "language": "python",
     "metadata": {},
     "outputs": [
      {
       "output_type": "stream",
       "stream": "stdout",
       "text": [
        "Populating the interactive namespace from numpy and matplotlib\n"
       ]
      },
      {
       "metadata": {},
       "output_type": "pyout",
       "prompt_number": 7,
       "text": [
        "<module 'backend' from 'backend.pyc'>"
       ]
      },
      {
       "metadata": {},
       "output_type": "pyout",
       "prompt_number": 7,
       "text": [
        "<module 'nltk' from 'C:\\Users\\vladimir\\Anaconda\\lib\\site-packages\\nltk\\__init__.pyc'>"
       ]
      },
      {
       "output_type": "stream",
       "stream": "stdout",
       "text": [
        "\n",
        "Reading input data files from C:\\Users\\vladimir\\Documents\\GitHub\\Ideas\\Idea\\dataset\n",
        "Found GimletDownload2012_07.csv ... 2595  records imported\n",
        "Found GimletDownload2012_08.csv ... 3672  records imported\n",
        "Found GimletDownload2012_09.csv ... 3817  records imported\n",
        "Found GimletDownload2012_10.csv ... "
       ]
      },
      {
       "output_type": "stream",
       "stream": "stdout",
       "text": [
        "13595  records imported\n",
        "Found GimletDownload2012_11.csv ... "
       ]
      },
      {
       "output_type": "stream",
       "stream": "stdout",
       "text": [
        "14737  records imported\n",
        "Found GimletDownload2012_12.csv ... 9696  records imported\n",
        "Found GimletDownload2013_01.csv ... "
       ]
      },
      {
       "output_type": "stream",
       "stream": "stdout",
       "text": [
        "5820  records imported\n",
        "Found GimletDownload2013_02.csv ... 9599  records imported\n",
        "\n",
        "Creating database layout..."
       ]
      },
      {
       "output_type": "stream",
       "stream": "stdout",
       "text": [
        "\n",
        "Table created.\n",
        "\n",
        "Inserting data into database...\n",
        "Done."
       ]
      },
      {
       "output_type": "stream",
       "stream": "stdout",
       "text": [
        "\n",
        "\n",
        "Querying the total amount of rows imported\n",
        "Columns: "
       ]
      },
      {
       "output_type": "stream",
       "stream": "stdout",
       "text": [
        " ['*']\n",
        "Conditions:  []\n",
        "Limit: 0\n",
        "Total amount of questions imported 63523\n",
        "Analyzing questions text-body... Done."
       ]
      }
     ],
     "prompt_number": "*"
    },
    {
     "cell_type": "code",
     "collapsed": false,
     "input": [
      "textbody = analyzer.db_get_full_text(con)\n",
      "tokens = nltk.word_tokenize(textbody)"
     ],
     "language": "python",
     "metadata": {},
     "outputs": [],
     "prompt_number": "*"
    },
    {
     "cell_type": "code",
     "collapsed": false,
     "input": [
      "bigram_measures = nltk.collocations.BigramAssocMeasures()\n",
      "finder = nltk.collocations.BigramCollocationFinder.from_words(tokens)\n",
      "finder.apply_freq_filter(50)\n",
      "finder.nbest(bigram_measures.pmi, 100) "
     ],
     "language": "python",
     "metadata": {},
     "outputs": [],
     "prompt_number": "*"
    },
    {
     "cell_type": "code",
     "collapsed": false,
     "input": [
      "trigram_measures = nltk.collocations.TrigramAssocMeasures()\n",
      "finder = nltk.collocations.TrigramCollocationFinder.from_words(tokens)\n",
      "finder.apply_freq_filter(50)\n",
      "finder.nbest(trigram_measures.pmi, 100) "
     ],
     "language": "python",
     "metadata": {},
     "outputs": [],
     "prompt_number": "*"
    }
   ],
   "metadata": {}
  }
 ]
}