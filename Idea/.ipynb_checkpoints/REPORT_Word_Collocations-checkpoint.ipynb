{
 "metadata": {
  "name": ""
 },
 "nbformat": 3,
 "nbformat_minor": 0,
 "worksheets": [
  {
   "cells": [
    {
     "cell_type": "heading",
     "level": 1,
     "metadata": {},
     "source": [
      "Finding words that frequently go together"
     ]
    },
    {
     "cell_type": "markdown",
     "metadata": {},
     "source": [
      "One may find it usefull to look at words that appear next to each other in order to understand the general purpose of majority of questions. While this information is not something that gives definitive answer to a particular question, it is still helpfull in understanding the underlying questions text body."
     ]
    },
    {
     "cell_type": "code",
     "collapsed": false,
     "input": [
      "from notebook import execute_notebook"
     ],
     "language": "python",
     "metadata": {},
     "outputs": []
    },
    {
     "cell_type": "heading",
     "level": 2,
     "metadata": {},
     "source": [
      "Before the Preprocessing Stage"
     ]
    },
    {
     "cell_type": "markdown",
     "metadata": {},
     "source": [
      "It may be usefull to compare word collocations before and after the Preprocessing stage of IDEAS. This gives us the big picture of how preprocessing may change our perception of dataset. "
     ]
    },
    {
     "cell_type": "code",
     "collapsed": false,
     "input": [
      "execute_notebook(\"IDEAS_Initialize.ipynb\")"
     ],
     "language": "python",
     "metadata": {},
     "outputs": []
    },
    {
     "cell_type": "markdown",
     "metadata": {},
     "source": [
      "Preparing and tokenizing textbody. This may take a moment."
     ]
    },
    {
     "cell_type": "code",
     "collapsed": false,
     "input": [
      "textbody = analyzer.db_get_full_text(con)\n",
      "textbodytokens = nltk.word_tokenize(textbody)"
     ],
     "language": "python",
     "metadata": {},
     "outputs": []
    },
    {
     "cell_type": "markdown",
     "metadata": {},
     "source": [
      "Note: The values of the functions may be adjusted to your needs. Frequency filter limits the minimum amount of collocations that have to happen, e.g. two words have to be found next to each other for 50 times in the example below. The second value controls the amount of results shown on screen, default is 100."
     ]
    },
    {
     "cell_type": "code",
     "collapsed": false,
     "input": [
      "bigram_measures = nltk.collocations.BigramAssocMeasures()\n",
      "finder = nltk.collocations.BigramCollocationFinder.from_words(textbodytokens)\n",
      "finder.apply_freq_filter(50)\n",
      "finder.nbest(bigram_measures.pmi, 100) "
     ],
     "language": "python",
     "metadata": {},
     "outputs": []
    },
    {
     "cell_type": "code",
     "collapsed": false,
     "input": [
      "trigram_measures = nltk.collocations.TrigramAssocMeasures()\n",
      "finder = nltk.collocations.TrigramCollocationFinder.from_words(textbodytokens)\n",
      "finder.apply_freq_filter(50)\n",
      "finder.nbest(trigram_measures.pmi, 100) "
     ],
     "language": "python",
     "metadata": {},
     "outputs": []
    },
    {
     "cell_type": "heading",
     "level": 2,
     "metadata": {},
     "source": [
      "After the Preprocessing Stage"
     ]
    },
    {
     "cell_type": "code",
     "collapsed": false,
     "input": [
      "execute_notebook(\"IDEAS_Initialize.ipynb\")"
     ],
     "language": "python",
     "metadata": {},
     "outputs": []
    },
    {
     "cell_type": "code",
     "collapsed": false,
     "input": [
      "execute_notebook(\"IDEAS_Preprocessing_data.ipynb\")"
     ],
     "language": "python",
     "metadata": {},
     "outputs": []
    },
    {
     "cell_type": "markdown",
     "metadata": {},
     "source": [
      "Preparing and tokenizing textbody. This may take a moment."
     ]
    },
    {
     "cell_type": "code",
     "collapsed": false,
     "input": [
      "textbody = analyzer.db_get_full_text(con)\n",
      "textbodytokens = nltk.word_tokenize(textbody)"
     ],
     "language": "python",
     "metadata": {},
     "outputs": []
    },
    {
     "cell_type": "code",
     "collapsed": false,
     "input": [
      "bigram_measures = nltk.collocations.BigramAssocMeasures()\n",
      "finder = nltk.collocations.BigramCollocationFinder.from_words(textbodytokens)\n",
      "finder.apply_freq_filter(50)\n",
      "finder.nbest(bigram_measures.pmi, 100) "
     ],
     "language": "python",
     "metadata": {},
     "outputs": []
    },
    {
     "cell_type": "code",
     "collapsed": false,
     "input": [
      "trigram_measures = nltk.collocations.TrigramAssocMeasures()\n",
      "finder = nltk.collocations.TrigramCollocationFinder.from_words(textbodytokens)\n",
      "finder.apply_freq_filter(10)\n",
      "finder.nbest(trigram_measures.pmi, 100) "
     ],
     "language": "python",
     "metadata": {},
     "outputs": []
    }
   ],
   "metadata": {}
  }
 ]
}