{
 "metadata": {
  "name": ""
 },
 "nbformat": 3,
 "nbformat_minor": 0,
 "worksheets": [
  {
   "cells": [
    {
     "cell_type": "heading",
     "level": 1,
     "metadata": {},
     "source": [
      "Preprocessing the dataset using known rules"
     ]
    },
    {
     "cell_type": "markdown",
     "metadata": {},
     "source": [
      "While computer anaylisis is a good and reliable thing, humans still have more knowledge about the field of expertise. That is why it may be necessary to replace some of the words with their synonyms in order to merge splits together."
     ]
    },
    {
     "cell_type": "code",
     "collapsed": false,
     "input": [],
     "language": "python",
     "metadata": {},
     "outputs": []
    }
   ],
   "metadata": {}
  }
 ]
}