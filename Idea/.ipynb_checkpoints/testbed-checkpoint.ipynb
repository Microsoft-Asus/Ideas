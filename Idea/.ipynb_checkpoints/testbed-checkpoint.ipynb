{
 "metadata": {
  "name": ""
 },
 "nbformat": 3,
 "nbformat_minor": 0,
 "worksheets": [
  {
   "cells": [
    {
     "cell_type": "code",
     "collapsed": false,
     "input": [
      "from notebook import execute_notebook"
     ],
     "language": "python",
     "metadata": {},
     "outputs": [],
     "prompt_number": 124
    },
    {
     "cell_type": "code",
     "collapsed": false,
     "input": [
      "execute_notebook(\"IDEAS_Initialize.ipynb\")"
     ],
     "language": "python",
     "metadata": {},
     "outputs": [
      {
       "output_type": "stream",
       "stream": "stdout",
       "text": [
        "Populating the interactive namespace from numpy and matplotlib\n"
       ]
      },
      {
       "metadata": {},
       "output_type": "pyout",
       "prompt_number": 125,
       "text": [
        "<module 'backend' from 'backend.pyc'>"
       ]
      },
      {
       "metadata": {},
       "output_type": "pyout",
       "prompt_number": 125,
       "text": [
        "<module 'nltk' from 'C:\\Users\\vladimir\\Anaconda\\lib\\site-packages\\nltk\\__init__.pyc'>"
       ]
      },
      {
       "output_type": "stream",
       "stream": "stdout",
       "text": [
        "\n",
        "Reading input data files from C:\\Users\\vladimir\\Documents\\GitHub\\Ideas\\Idea\\dataset\n",
        "Found GimletDownload2012_07.csv ... 2595  records imported\n",
        "Found GimletDownload2012_08.csv ... 3672  records imported\n",
        "Found GimletDownload2012_09.csv ... 3817  records imported\n",
        "Found GimletDownload2012_10.csv ... "
       ]
      },
      {
       "output_type": "stream",
       "stream": "stdout",
       "text": [
        "13595  records imported\n",
        "Found GimletDownload2012_11.csv ... "
       ]
      },
      {
       "output_type": "stream",
       "stream": "stdout",
       "text": [
        "14737  records imported\n",
        "Found GimletDownload2012_12.csv ... 9696  records imported\n",
        "Found GimletDownload2013_01.csv ... "
       ]
      },
      {
       "output_type": "stream",
       "stream": "stdout",
       "text": [
        "5820  records imported\n",
        "Found GimletDownload2013_02.csv ... 9599  records imported\n",
        "\n",
        "Creating database layout..."
       ]
      },
      {
       "output_type": "stream",
       "stream": "stdout",
       "text": [
        "\n",
        "Table created.\n",
        "\n",
        "Inserting data into database...\n",
        "Done."
       ]
      },
      {
       "output_type": "stream",
       "stream": "stdout",
       "text": [
        "\n",
        "\n",
        "Querying the total amount of rows imported\n",
        "Columns: "
       ]
      },
      {
       "output_type": "stream",
       "stream": "stdout",
       "text": [
        " ['*']\n",
        "Conditions:  []\n",
        "Limit: 0\n",
        "Total amount of questions imported 63523\n"
       ]
      }
     ],
     "prompt_number": 125
    },
    {
     "cell_type": "code",
     "collapsed": false,
     "input": [
      "execute_notebook(\"IDEAS_Preprocessing_data.ipynb\")"
     ],
     "language": "python",
     "metadata": {},
     "outputs": [],
     "prompt_number": 126
    },
    {
     "cell_type": "code",
     "collapsed": false,
     "input": [
      "text = analyzer.db_get_full_text(con)"
     ],
     "language": "python",
     "metadata": {},
     "outputs": []
    },
    {
     "cell_type": "code",
     "collapsed": false,
     "input": [
      "bigrams = nltk.bigrams(text)\n",
      "cfd = nltk.ConditionalFreqDist(bigrams)\n",
      "print cfd['number']"
     ],
     "language": "python",
     "metadata": {},
     "outputs": [],
     "prompt_number": "*"
    },
    {
     "cell_type": "code",
     "collapsed": false,
     "input": [
      "\n",
      "\n",
      "\n",
      "\n",
      "\n",
      "text = analyzer.db_get_full_text(con)   # this takes into account every question that is loaded\n",
      "bigram_measures = nltk.collocations.BigramAssocMeasures()\n",
      "finder = nltk.collocations.BigramCollocationFinder.from_words(text)\n",
      "finder.apply_freq_filter(3)\n",
      "finder.apply_word_filter(filter_stops)\n",
      "matches1 = finder.nbest(bigram_measures.pmi, 20)"
     ],
     "language": "python",
     "metadata": {},
     "outputs": [
      {
       "ename": "NameError",
       "evalue": "name 'filter_stops' is not defined",
       "output_type": "pyerr",
       "traceback": [
        "\u001b[1;31m---------------------------------------------------------------------------\u001b[0m\n\u001b[1;31mNameError\u001b[0m                                 Traceback (most recent call last)",
        "\u001b[1;32m<ipython-input-127-b3df8e441421>\u001b[0m in \u001b[0;36m<module>\u001b[1;34m()\u001b[0m\n\u001b[0;32m      4\u001b[0m \u001b[0mfinder\u001b[0m \u001b[1;33m=\u001b[0m \u001b[0mnltk\u001b[0m\u001b[1;33m.\u001b[0m\u001b[0mcollocations\u001b[0m\u001b[1;33m.\u001b[0m\u001b[0mBigramCollocationFinder\u001b[0m\u001b[1;33m.\u001b[0m\u001b[0mfrom_words\u001b[0m\u001b[1;33m(\u001b[0m\u001b[0mtext\u001b[0m\u001b[1;33m)\u001b[0m\u001b[1;33m\u001b[0m\u001b[0m\n\u001b[0;32m      5\u001b[0m \u001b[0mfinder\u001b[0m\u001b[1;33m.\u001b[0m\u001b[0mapply_freq_filter\u001b[0m\u001b[1;33m(\u001b[0m\u001b[1;36m3\u001b[0m\u001b[1;33m)\u001b[0m\u001b[1;33m\u001b[0m\u001b[0m\n\u001b[1;32m----> 6\u001b[1;33m \u001b[0mfinder\u001b[0m\u001b[1;33m.\u001b[0m\u001b[0mapply_word_filter\u001b[0m\u001b[1;33m(\u001b[0m\u001b[0mfilter_stops\u001b[0m\u001b[1;33m)\u001b[0m\u001b[1;33m\u001b[0m\u001b[0m\n\u001b[0m\u001b[0;32m      7\u001b[0m \u001b[0mmatches1\u001b[0m \u001b[1;33m=\u001b[0m \u001b[0mfinder\u001b[0m\u001b[1;33m.\u001b[0m\u001b[0mnbest\u001b[0m\u001b[1;33m(\u001b[0m\u001b[0mbigram_measures\u001b[0m\u001b[1;33m.\u001b[0m\u001b[0mpmi\u001b[0m\u001b[1;33m,\u001b[0m \u001b[1;36m20\u001b[0m\u001b[1;33m)\u001b[0m\u001b[1;33m\u001b[0m\u001b[0m\n",
        "\u001b[1;31mNameError\u001b[0m: name 'filter_stops' is not defined"
       ]
      },
      {
       "output_type": "stream",
       "stream": "stdout",
       "text": [
        "Analyzing questions text-body... Done.\n"
       ]
      }
     ],
     "prompt_number": 127
    },
    {
     "cell_type": "code",
     "collapsed": false,
     "input": [
      "q = backend.QueryBuilder()                    # Create a new custom query\n",
      "q.set_columns(['Question'])         # we are interested in question column\n",
      "q.set_condition('Question ', 'sanjose')       # Question should not be empty\n",
      "q.limit = 5                                  # allows us to take out the result limitations \n",
      "q.execute(con)"
     ],
     "language": "python",
     "metadata": {},
     "outputs": [
      {
       "output_type": "stream",
       "stream": "stdout",
       "text": [
        "Columns:  ['Question']\n",
        "Conditions:  [('Question ', 'sanjose')]\n",
        "Limit: 5\n"
       ]
      },
      {
       "metadata": {},
       "output_type": "pyout",
       "prompt_number": 120,
       "text": [
        "[('i am going on sanjoselibrary.org and i cant access refusa',),\n",
        " ('council on aging in sanjose',),\n",
        " (\"i was using the san-jose-state-university database and i found an article of interest. however the link (get text) doesn't work, i was hoping maybe you could help me get access.    here's the link,     http://library.calstate.edu/sanjose/metasearch/record?group=2012-09-22-002226&resultset=045842&startrecord=000001&return=%2fsanjose%2fmetasearch%2ffacet%3fgroup%3d2012-09-22-002226%26amp%3bresultset%3d045863%26amp%3bfacet%3d6%26amp%3bnode%3d2    thank you!\",)]"
       ]
      }
     ],
     "prompt_number": 120
    },
    {
     "cell_type": "code",
     "collapsed": false,
     "input": [
      "q = backend.QueryBuilder()                    # Create a new custom query\n",
      "q.set_columns(['Question'])                   # we are interested in question column\n",
      "q.set_condition('Question', 'number')         # Question should not be empty\n",
      "\n",
      "#q.show = False                                # not displaying the result of this query on screen \n",
      "q.limit = 25                                   # allows us to take out the result limitations \n",
      "q.execute(con)\n",
      "#mytext = analyzer.get_text( q.execute(con) )  # read the text-body from results \n",
      "#analyzer.get_most_frequent_words(mytext, 25)  # Print most frequent words "
     ],
     "language": "python",
     "metadata": {},
     "outputs": [
      {
       "output_type": "stream",
       "stream": "stdout",
       "text": [
        "Columns:  ['Question']\n",
        "Conditions:  [('Question', 'number')]\n",
        "Limit: 25\n"
       ]
      },
      {
       "metadata": {},
       "output_type": "pyout",
       "prompt_number": 121,
       "text": [
        "[('phone-number for nicole nu\\xc3\\xb1ez',),\n",
        " ('need phone-number for daily donuts on cunnyvale/saratoga',),\n",
        " ('person started to ask a question about a phone-number lookup but decided to call back.',),\n",
        " ('number talks',),\n",
        " ('call number check hq etc.',),\n",
        " ('stubhub phone-numbers',),\n",
        " ('found the loc call number for a item searched as dewey from a branch ',),\n",
        " (\"what is the dewey number is for women's hats\",),\n",
        " ('customer wanted  help with pin-number ',),\n",
        " ('need address and numbers for tasters choice, nestle, coffee association of america, and description on freeze drying process for coffee',),\n",
        " ('customer wanted help to reset pin-number ',),\n",
        " ('number for senior living on meridan',),\n",
        " ('number and address for camping sites in capitola',),\n",
        " ('i just logged on and it says that i am still number 11 on the waiting list. however i recieved an e-mail saying my hold is available. is this a mistake? i do not want to lose my spot in the waiting list.',),\n",
        " ('needed phone-number for local chapter for seiu, santa clara county',),\n",
        " ('phone-number for the fusion and contacts center in scottsdale, az',),\n",
        " ('wrong number call.',),\n",
        " (\"had call number couldn't find book \",),\n",
        " ('bascom community center phone-number',),\n",
        " ('caller needs the telephone-number for san-jose convention center',),\n",
        " ('telephone-number for dmv',),\n",
        " ('what is the number for wifi?',),\n",
        " ('library-card number',),\n",
        " ('customer needed phone-number of her former doctor',),\n",
        " ('my san-jose library-card was lost. the card number (san-josepl barcode) is 21197.... can we cancel that card and get a replacement card?',)]"
       ]
      }
     ],
     "prompt_number": 121
    },
    {
     "cell_type": "code",
     "collapsed": false,
     "input": [],
     "language": "python",
     "metadata": {},
     "outputs": []
    }
   ],
   "metadata": {}
  }
 ]
}