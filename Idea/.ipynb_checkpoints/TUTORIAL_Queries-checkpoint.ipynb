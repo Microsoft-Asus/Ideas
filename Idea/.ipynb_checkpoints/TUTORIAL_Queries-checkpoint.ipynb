{
 "metadata": {
  "name": ""
 },
 "nbformat": 3,
 "nbformat_minor": 0,
 "worksheets": [
  {
   "cells": [
    {
     "cell_type": "heading",
     "level": 1,
     "metadata": {},
     "source": [
      "Custom Queries and Data subsetting\n"
     ]
    },
    {
     "cell_type": "markdown",
     "metadata": {},
     "source": [
      "Since the initial loaded data contains a lot of colums, you may want to specisy a subset of data you are interested in. This would greatly facilitate analysis and improve the software performance. Furthermore, you may or may not want to see some data displayed on the screen. Custom queries are build in a way that simplifies data navigation, they provide all the necessary functionality for analyzing the available dataset."
     ]
    },
    {
     "cell_type": "heading",
     "level": 2,
     "metadata": {},
     "source": [
      "Getting the information about available colums "
     ]
    },
    {
     "cell_type": "markdown",
     "metadata": {},
     "source": [
      "Lets have a look at columns that we have found in our input dataset. More in-depth analysis would be covered in the next chapter. The information here is just to show what data we are operating with."
     ]
    },
    {
     "cell_type": "code",
     "collapsed": false,
     "input": [
      "manager.get_python_columns(data)"
     ],
     "language": "python",
     "metadata": {},
     "outputs": []
    },
    {
     "cell_type": "heading",
     "level": 2,
     "metadata": {},
     "source": [
      "Creating a custom query and using subset functionality"
     ]
    },
    {
     "cell_type": "markdown",
     "metadata": {},
     "source": [
      "This is where custom queries and data subsets can help. Lets say we are only interested in \"What are the questions that don't have an answer inside the database?\". In order to do that we create a new custom query:"
     ]
    },
    {
     "cell_type": "code",
     "collapsed": false,
     "input": [
      "q = backend.QueryBuilder()"
     ],
     "language": "python",
     "metadata": {},
     "outputs": []
    },
    {
     "cell_type": "markdown",
     "metadata": {},
     "source": [
      "Currently the query is empty and doesn't contain any information. Lets specify the columns that we are interested in and conditions. The only condition we have is to make sure that the answer is 'empty' or 'null' in programming terms. We may set a limit to make sure we don't get way too many results. Default is 10, but you may experiment with the amount that you are most comfortable with."
     ]
    },
    {
     "cell_type": "code",
     "collapsed": false,
     "input": [
      "q.set_columns( ['Question', 'Email', 'Answer'] )\n",
      "q.set_condition('Answer', 'null')\n",
      "q.set_condition('AND Question NOT', 'null')\n",
      "q.limit = 25"
     ],
     "language": "python",
     "metadata": {},
     "outputs": []
    },
    {
     "cell_type": "markdown",
     "metadata": {},
     "source": [
      "The only thing that is left is to execute the query and check its result:"
     ]
    },
    {
     "cell_type": "code",
     "collapsed": false,
     "input": [
      "q.execute(con)"
     ],
     "language": "python",
     "metadata": {},
     "outputs": []
    },
    {
     "cell_type": "markdown",
     "metadata": {},
     "source": [
      "As a matter of fact the beauty of this approach lies withis the notion of improving your search. You can easily add new conditions to the existing query to narrow results even further. Lets assume that we are only interested in questions that were asked over the phone. Notice that each time you execute a query it prints the values that were set during that particular execution. "
     ]
    },
    {
     "cell_type": "code",
     "collapsed": false,
     "input": [
      "q.set_columns( ['Question', 'Answer', 'Format'] )\n",
      "q.set_condition('AND Format', 'Phone')\n",
      "q.execute(con)"
     ],
     "language": "python",
     "metadata": {},
     "outputs": []
    },
    {
     "cell_type": "markdown",
     "metadata": {},
     "source": [
      "What a great example of how small amount of data can still be overwhelming. This is a perfect place to show the 'display' function. It allows you to specify which particular information you are interested in, even though you may construct a very massive and complicated query. We are only interested in the questions themselves right now, so lets specify 'Question' as the only display field."
     ]
    },
    {
     "cell_type": "code",
     "collapsed": false,
     "input": [
      "q.display(['Question'])"
     ],
     "language": "python",
     "metadata": {},
     "outputs": []
    },
    {
     "cell_type": "markdown",
     "metadata": {},
     "source": [
      "After a quick look over the returned dataset one may notice that people often ask if the book is currently available. That seems like a reasonable question to me, but what if we want to know what are the questions that are not about books, but about magazines and periodicals? In order to do that we need to add more conditions to our query. "
     ]
    },
    {
     "cell_type": "code",
     "collapsed": false,
     "input": [
      "q.set_columns( ['Answer', 'Email', 'Question', 'Format'] )\n",
      "q.set_condition('AND Question NOT', 'book')\n",
      "q.set_condition('AND Question', 'magazine')\n",
      "q.limit = 25\n",
      "q.execute(con)\n",
      "q.display(['Question'])"
     ],
     "language": "python",
     "metadata": {},
     "outputs": []
    },
    {
     "cell_type": "code",
     "collapsed": false,
     "input": [],
     "language": "python",
     "metadata": {},
     "outputs": []
    },
    {
     "cell_type": "code",
     "collapsed": false,
     "input": [],
     "language": "python",
     "metadata": {},
     "outputs": []
    },
    {
     "cell_type": "code",
     "collapsed": false,
     "input": [],
     "language": "python",
     "metadata": {},
     "outputs": []
    },
    {
     "cell_type": "code",
     "collapsed": false,
     "input": [],
     "language": "python",
     "metadata": {},
     "outputs": []
    }
   ],
   "metadata": {}
  }
 ]
}