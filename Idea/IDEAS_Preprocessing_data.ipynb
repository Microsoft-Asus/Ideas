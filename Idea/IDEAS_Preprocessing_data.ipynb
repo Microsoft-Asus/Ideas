{
 "metadata": {
  "name": ""
 },
 "nbformat": 3,
 "nbformat_minor": 0,
 "worksheets": [
  {
   "cells": [
    {
     "cell_type": "heading",
     "level": 1,
     "metadata": {},
     "source": [
      "Preprocessing the dataset using known rules"
     ]
    },
    {
     "cell_type": "markdown",
     "metadata": {},
     "source": [
      "While computer anaylisis is a good and reliable thing, humans still have more knowledge about the field of expertise. That is why it may be necessary to replace some of the words with their synonyms in order to merge splits together. Other common use case may be merging singular and multiple uses of the same word into one. Also we could merge totally unrelated at first glance words into a specific meta-word. "
     ]
    },
    {
     "cell_type": "markdown",
     "metadata": {},
     "source": [
      "Notice that all these operations do not alter the actual data, but only the in-memory representation of it. This would make sure that the original data stays intact in case of a human mistake. One can always reload the original dataset if necessary and\\or provide custom replacement rules in custom notebooks. It is a good idea to place only the most common replacements in this file so that other people would use it as a starting point."
     ]
    },
    {
     "cell_type": "heading",
     "level": 4,
     "metadata": {},
     "source": [
      "NOTE: Keep in mind that during the data importing stage IDEAS internally converts all the words into lowercase and converts them into singular form."
     ]
    },
    {
     "cell_type": "markdown",
     "metadata": {},
     "source": [
      "Replacements that represent word combinations that are frequently used together. These default values were derived using NLTK functionality by finding the most common collocations as shown in REPORT_Word_Collocations. "
     ]
    },
    {
     "cell_type": "code",
     "collapsed": false,
     "input": [
      "backend.replace(con, 'Question', 'phone number', 'phone-number')\n",
      "backend.replace(con, 'Question', 'pin number', 'pin-number')\n",
      "backend.replace(con, 'Question', 'library card', 'library-card')\n",
      "backend.replace(con, 'Question', 'flash drive', 'usb-flash-drive')\n",
      "backend.replace(con, 'Question', 'usb drive', 'usb-flash-drive')\n",
      "backend.replace(con, 'Question', 'copy machine', 'copy-machine')\n",
      "backend.replace(con, 'Question', 'study room', 'study-room')\n",
      "backend.replace(con, 'Question', 'tower card', 'tower-card')\n",
      "backend.replace(con, 'Question', 'research paper', 'research-paper')\n",
      "backend.replace(con, 'Question', '4 hour laptop', '4-hour-device')\n",
      "backend.replace(con, 'Question', '4 hour ipad', '4-hour-device')\n"
     ],
     "language": "python",
     "metadata": {},
     "outputs": []
    },
    {
     "cell_type": "markdown",
     "metadata": {},
     "source": [
      "Some replacements that go for cities and locations that could be relevant."
     ]
    },
    {
     "cell_type": "code",
     "collapsed": false,
     "input": [
      "backend.replace(con, 'Question', 'san jose', 'san-jose')\n",
      "backend.replace(con, 'Question', 'sjsu', 'san-jose-state-university')\n",
      "backend.replace(con, 'Question', 'sj', 'san-jose')\n",
      "backend.replace(con, 'Question', 'santa clara', 'santa-clara')\n",
      "backend.replace(con, 'Question', 'mercury news', 'mercury-news')\n",
      "backend.replace(con, 'Question', 'san francisco', 'san-francisco')\n",
      "backend.replace(con, 'Question', 'king library', 'king-library')\n"
     ],
     "language": "python",
     "metadata": {},
     "outputs": []
    },
    {
     "cell_type": "markdown",
     "metadata": {},
     "source": [
      "Some replacements that go for the Question_Type column."
     ]
    },
    {
     "cell_type": "code",
     "collapsed": false,
     "input": [
      "backend.replace(con, 'Question_Type', '3 - simple strategy ( reference )', 'simple-strategy-reference')\n",
      "backend.replace(con, 'Question_Type', '2 - wireless', 'wireless')\n",
      "backend.replace(con, 'Question_Type', '1 - directional', 'directional')\n",
      "backend.replace(con, 'Question_Type', '2 - printing', 'printing')\n",
      "backend.replace(con, 'Question_Type', '2 - printing', 'printing')\n",
      "backend.replace(con, 'Question_Type', '2 - technical ( equipment & amp ; basic opac )', 'technical')\n",
      "backend.replace(con, 'Question_Type', '4 - complex strategy ( reference )', 'complex')"
     ],
     "language": "python",
     "metadata": {},
     "outputs": []
    },
    {
     "cell_type": "code",
     "collapsed": false,
     "input": [
      "backend.replace(con, 'Location', '2nd floor', '2nd-floor')\n",
      "backend.replace(con, 'Location', 'lower level', 'lower-level')\n",
      "backend.replace(con, 'Location', '3rd floor', '3rd-floor')\n",
      "backend.replace(con, 'Location', '1st floor', '1st-floor')"
     ],
     "language": "python",
     "metadata": {},
     "outputs": []
    },
    {
     "cell_type": "code",
     "collapsed": false,
     "input": [
      "backend.replace(con, 'Format', 'phone ( remote )', 'phone-remote')"
     ],
     "language": "python",
     "metadata": {},
     "outputs": []
    }
   ],
   "metadata": {}
  }
 ]
}