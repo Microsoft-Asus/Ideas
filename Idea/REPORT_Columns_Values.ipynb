{
 "metadata": {
  "name": ""
 },
 "nbformat": 3,
 "nbformat_minor": 0,
 "worksheets": [
  {
   "cells": [
    {
     "cell_type": "code",
     "collapsed": false,
     "input": [
      "from notebook import execute_notebook"
     ],
     "language": "python",
     "metadata": {},
     "outputs": [],
     "prompt_number": 2
    },
    {
     "cell_type": "code",
     "collapsed": false,
     "input": [
      "%time execute_notebook(\"IDEAS_Initialize.ipynb\")"
     ],
     "language": "python",
     "metadata": {},
     "outputs": [
      {
       "output_type": "stream",
       "stream": "stdout",
       "text": [
        "Populating the interactive namespace from numpy and matplotlib\n"
       ]
      },
      {
       "metadata": {},
       "output_type": "pyout",
       "prompt_number": 3,
       "text": [
        "<module 'backend' from 'backend.pyc'>"
       ]
      },
      {
       "metadata": {},
       "output_type": "pyout",
       "prompt_number": 3,
       "text": [
        "<module 'nltk' from '/home/vladimir/anaconda/lib/python2.7/site-packages/nltk/__init__.pyc'>"
       ]
      },
      {
       "output_type": "stream",
       "stream": "stdout",
       "text": [
        "\n",
        "Reading input data files from /home/vladimir/Documents/Ideas/Idea/dataset\n",
        "Found GimletDownload2012_11.csv ... "
       ]
      },
      {
       "output_type": "stream",
       "stream": "stdout",
       "text": [
        "14737  records imported\n",
        "Found GimletDownload2012_07.csv ... 2595  records imported\n",
        "Found GimletDownload2012_12.csv ... "
       ]
      },
      {
       "output_type": "stream",
       "stream": "stdout",
       "text": [
        "9696  records imported\n",
        "Found GimletDownload2013_02.csv ... "
       ]
      },
      {
       "output_type": "stream",
       "stream": "stdout",
       "text": [
        "9599  records imported\n",
        "Found GimletDownload2012_08.csv ... 3672  records imported\n",
        "Found GimletDownload2012_10.csv ... "
       ]
      },
      {
       "output_type": "stream",
       "stream": "stdout",
       "text": [
        "13595  records imported\n",
        "Found GimletDownload2012_09.csv ... 3817  records imported\n",
        "Found GimletDownload2013_01.csv ... "
       ]
      }
     ],
     "prompt_number": "*"
    },
    {
     "cell_type": "code",
     "collapsed": false,
     "input": [
      "execute_notebook(\"IDEAS_Preprocessing_data.ipynb\")"
     ],
     "language": "python",
     "metadata": {},
     "outputs": [],
     "prompt_number": "*"
    },
    {
     "cell_type": "heading",
     "level": 3,
     "metadata": {},
     "source": [
      "Word frequency distribution in a given column"
     ]
    },
    {
     "cell_type": "code",
     "collapsed": false,
     "input": [
      "manager.get_db_columns(con)"
     ],
     "language": "python",
     "metadata": {},
     "outputs": [],
     "prompt_number": "*"
    },
    {
     "cell_type": "heading",
     "level": 4,
     "metadata": {},
     "source": [
      "Tags Column"
     ]
    },
    {
     "cell_type": "code",
     "collapsed": false,
     "input": [
      "q = backend.QueryBuilder()                    # Create a new custom query\n",
      "q.set_columns(['Tags'])                       # we are interested specified columns\n",
      "q.show = False                                # not displaying the result of this query on screen \n",
      "q.limit = 0                                   # allows us to take out the result limitations \n",
      "mytext = analyzer.get_text( q.execute(con) )  # read the text-body from results \n",
      "mfw = analyzer.get_most_frequent_words(mytext, 25)  # Print most frequent words \n",
      "pie_chart(mfw)   \n",
      "savefig('sample.pdf')"
     ],
     "language": "python",
     "metadata": {},
     "outputs": [],
     "prompt_number": "*"
    },
    {
     "cell_type": "heading",
     "level": 4,
     "metadata": {},
     "source": [
      "Question Time"
     ]
    },
    {
     "cell_type": "code",
     "collapsed": false,
     "input": [
      "q = backend.QueryBuilder()                    # Create a new custom query\n",
      "q.set_columns(['Question_Time'])                   # we are interested specified columns\n",
      "q.show = False                                # not displaying the result of this query on screen \n",
      "q.limit = 15                                   # allows us to take out the result limitations \n",
      "\n",
      "for each in q.execute(con):\n",
      "    print each[0]"
     ],
     "language": "python",
     "metadata": {},
     "outputs": [],
     "prompt_number": "*"
    },
    {
     "cell_type": "heading",
     "level": 4,
     "metadata": {},
     "source": [
      "Format Column"
     ]
    },
    {
     "cell_type": "code",
     "collapsed": false,
     "input": [
      "q = backend.QueryBuilder()                    # Create a new custom query\n",
      "q.set_columns(['Format'])                     # we are interested specified columns\n",
      "q.show = False                                # not displaying the result of this query on screen \n",
      "q.limit = 0                                   # allows us to take out the result limitations \n",
      "\n",
      "mytext = analyzer.get_text( q.execute(con) )  # read the text-body from results \n",
      "mfw = analyzer.get_most_frequent_words(mytext, 25)  # Print most frequent words \n",
      "print mfw\n",
      "pie_chart(mfw)   "
     ],
     "language": "python",
     "metadata": {},
     "outputs": [],
     "prompt_number": "*"
    },
    {
     "cell_type": "heading",
     "level": 4,
     "metadata": {},
     "source": [
      "Location Column"
     ]
    },
    {
     "cell_type": "code",
     "collapsed": false,
     "input": [
      "q = backend.QueryBuilder()                    # Create a new custom query\n",
      "q.set_columns(['Location'])                   # we are interested specified columns\n",
      "q.show = False                                # not displaying the result of this query on screen \n",
      "q.limit = 0                                   # allows us to take out the result limitations \n",
      "\n",
      "mytext = analyzer.get_text( q.execute(con) )  # read the text-body from results \n",
      "mfw = analyzer.get_most_frequent_words(mytext, 25)  # Print most frequent words \n",
      "print mfw\n",
      "pie_chart(mfw)   "
     ],
     "language": "python",
     "metadata": {},
     "outputs": [],
     "prompt_number": "*"
    },
    {
     "cell_type": "heading",
     "level": 4,
     "metadata": {},
     "source": [
      "Initials Column"
     ]
    },
    {
     "cell_type": "code",
     "collapsed": false,
     "input": [
      "q = backend.QueryBuilder()                    # Create a new custom query\n",
      "q.set_columns(['Initials'])          # we are interested specified columns\n",
      "q.show = False                                # not displaying the result of this query on screen \n",
      "q.limit = 0                                   # allows us to take out the result limitations \n",
      "\n",
      "mytext = analyzer.get_text( q.execute(con) )  # read the text-body from results \n",
      "mfw = analyzer.get_most_frequent_words(mytext, 50)  # Print most frequent words \n",
      "pie_chart(mfw)   "
     ],
     "language": "python",
     "metadata": {},
     "outputs": [],
     "prompt_number": "*"
    },
    {
     "cell_type": "heading",
     "level": 4,
     "metadata": {},
     "source": [
      "Question_Type Column"
     ]
    },
    {
     "cell_type": "code",
     "collapsed": false,
     "input": [
      "q = backend.QueryBuilder()                    # Create a new custom query\n",
      "q.set_columns(['Question_Type'])              # we are interested specified columns\n",
      "q.show = False                                # not displaying the result of this query on screen \n",
      "q.limit = 0                                   # allows us to take out the result limitations \n",
      "mytext = analyzer.get_text( q.execute(con) )  # read the text-body from results \n",
      "mfw = analyzer.get_most_frequent_words(mytext, 25)  # Print most frequent words \n",
      "pie_chart(mfw)   "
     ],
     "language": "python",
     "metadata": {},
     "outputs": [],
     "prompt_number": "*"
    },
    {
     "cell_type": "heading",
     "level": 4,
     "metadata": {},
     "source": [
      "Email column"
     ]
    },
    {
     "cell_type": "code",
     "collapsed": false,
     "input": [
      "q = backend.QueryBuilder()                    # Create a new custom query\n",
      "q.set_columns(['Email'])              # we are interested specified columns\n",
      "q.show = False                                # not displaying the result of this query on screen \n",
      "q.limit = 0                                   # allows us to take out the result limitations \n",
      "mytext = analyzer.get_text( q.execute(con) )  # read the text-body from results \n",
      "mfw = analyzer.get_most_frequent_words(mytext, 25)  # Print most frequent words \n",
      "pie_chart(mfw)   "
     ],
     "language": "python",
     "metadata": {},
     "outputs": [],
     "prompt_number": "*"
    },
    {
     "cell_type": "heading",
     "level": 4,
     "metadata": {},
     "source": [
      "Duration column"
     ]
    },
    {
     "cell_type": "code",
     "collapsed": false,
     "input": [
      "q = backend.QueryBuilder()                    # Create a new custom query\n",
      "q.set_columns(['Duration'])              # we are interested specified columns\n",
      "q.show = False                                # not displaying the result of this query on screen \n",
      "q.limit = 0                                   # allows us to take out the result limitations \n",
      "mytext = analyzer.get_text( q.execute(con) )  # read the text-body from results \n",
      "mfw = analyzer.get_most_frequent_words(mytext, 25)  # Print most frequent words \n",
      "pie_chart(mfw)   "
     ],
     "language": "python",
     "metadata": {},
     "outputs": [],
     "prompt_number": "*"
    },
    {
     "cell_type": "heading",
     "level": 4,
     "metadata": {},
     "source": [
      "Questioner column"
     ]
    },
    {
     "cell_type": "code",
     "collapsed": false,
     "input": [
      "q = backend.QueryBuilder()                    # Create a new custom query\n",
      "q.set_columns(['Questioner'])              # we are interested specified columns\n",
      "q.show = False                                # not displaying the result of this query on screen \n",
      "q.limit = 0                                   # allows us to take out the result limitations \n",
      "mytext = analyzer.get_text( q.execute(con) )  # read the text-body from results \n",
      "mfw = analyzer.get_most_frequent_words(mytext, 25)  # Print most frequent words \n",
      "pie_chart(mfw)   "
     ],
     "language": "python",
     "metadata": {},
     "outputs": [],
     "prompt_number": "*"
    }
   ],
   "metadata": {}
  }
 ]
}