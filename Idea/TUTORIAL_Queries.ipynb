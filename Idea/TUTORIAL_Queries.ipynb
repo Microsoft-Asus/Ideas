{
 "metadata": {
  "name": ""
 },
 "nbformat": 3,
 "nbformat_minor": 0,
 "worksheets": [
  {
   "cells": [
    {
     "cell_type": "code",
     "collapsed": false,
     "input": [
      "from notebook import execute_notebook"
     ],
     "language": "python",
     "metadata": {},
     "outputs": [
      {
       "output_type": "stream",
       "stream": "stdout",
       "text": [
        "9599  records imported\n",
        "\n",
        "Creating database layout...\n",
        "Table created.\n",
        "\n",
        "Inserting data into database...\n",
        "Done."
       ]
      },
      {
       "output_type": "stream",
       "stream": "stdout",
       "text": [
        "\n",
        "\n",
        "Querying the total amount of rows imported\n",
        "Columns: "
       ]
      },
      {
       "output_type": "stream",
       "stream": "stdout",
       "text": [
        " ['*']\n",
        "Conditions:  []\n",
        "Limit: 0\n",
        "Total amount of questions imported 63523\n"
       ]
      }
     ],
     "prompt_number": 9
    },
    {
     "cell_type": "code",
     "collapsed": false,
     "input": [
      "execute_notebook(\"IDEAS_Initialize.ipynb\")"
     ],
     "language": "python",
     "metadata": {},
     "outputs": [
      {
       "output_type": "stream",
       "stream": "stdout",
       "text": [
        "Populating the interactive namespace from numpy and matplotlib\n"
       ]
      },
      {
       "metadata": {},
       "output_type": "pyout",
       "prompt_number": 10,
       "text": [
        "<module 'backend' from 'backend.pyc'>"
       ]
      },
      {
       "metadata": {},
       "output_type": "pyout",
       "prompt_number": 10,
       "text": [
        "<module 'nltk' from 'C:\\Users\\vladimir\\Anaconda\\lib\\site-packages\\nltk\\__init__.pyc'>"
       ]
      },
      {
       "output_type": "stream",
       "stream": "stdout",
       "text": [
        "\n",
        "Reading input data files from C:\\Users\\vladimir\\Documents\\GitHub\\Ideas\\Idea\\dataset\n",
        "Found GimletDownload2012_07.csv ... 2595  records imported\n",
        "Found GimletDownload2012_08.csv ... 3672  records imported\n",
        "Found GimletDownload2012_09.csv ... 3817  records imported\n",
        "Found GimletDownload2012_10.csv ... "
       ]
      },
      {
       "output_type": "stream",
       "stream": "stdout",
       "text": [
        "13595  records imported\n",
        "Found GimletDownload2012_11.csv ... "
       ]
      },
      {
       "output_type": "stream",
       "stream": "stdout",
       "text": [
        "14737  records imported\n",
        "Found GimletDownload2012_12.csv ... 9696  records imported\n",
        "Found GimletDownload2013_01.csv ... "
       ]
      },
      {
       "output_type": "stream",
       "stream": "stdout",
       "text": [
        "5820  records imported\n",
        "Found GimletDownload2013_02.csv ... 9599  records imported\n",
        "\n",
        "Creating database layout..."
       ]
      },
      {
       "ename": "KeyboardInterrupt",
       "evalue": "",
       "output_type": "pyerr",
       "traceback": [
        "\u001b[1;31m---------------------------------------------------------------------------\u001b[0m\n\u001b[1;31mKeyboardInterrupt\u001b[0m                         Traceback (most recent call last)",
        "\u001b[1;32m<ipython-input-10-aef773007327>\u001b[0m in \u001b[0;36m<module>\u001b[1;34m()\u001b[0m\n\u001b[0;32m      1\u001b[0m \u001b[0mdata\u001b[0m \u001b[1;33m=\u001b[0m \u001b[0mmanager\u001b[0m\u001b[1;33m.\u001b[0m\u001b[0mimport_data\u001b[0m\u001b[1;33m(\u001b[0m\u001b[0mos\u001b[0m\u001b[1;33m.\u001b[0m\u001b[0mpath\u001b[0m\u001b[1;33m.\u001b[0m\u001b[0mjoin\u001b[0m\u001b[1;33m(\u001b[0m\u001b[0mos\u001b[0m\u001b[1;33m.\u001b[0m\u001b[0mgetcwd\u001b[0m\u001b[1;33m(\u001b[0m\u001b[1;33m)\u001b[0m\u001b[1;33m,\u001b[0m \u001b[1;34m'dataset'\u001b[0m\u001b[1;33m)\u001b[0m\u001b[1;33m)\u001b[0m\u001b[1;33m\u001b[0m\u001b[0m\n\u001b[1;32m----> 2\u001b[1;33m \u001b[0mcon\u001b[0m  \u001b[1;33m=\u001b[0m \u001b[0mmanager\u001b[0m\u001b[1;33m.\u001b[0m\u001b[0msave_data_to_db\u001b[0m\u001b[1;33m(\u001b[0m\u001b[0mdata\u001b[0m\u001b[1;33m)\u001b[0m\u001b[1;33m\u001b[0m\u001b[0m\n\u001b[0m",
        "\u001b[1;32mC:\\Users\\vladimir\\Documents\\GitHub\\Ideas\\Idea\\backend.pyc\u001b[0m in \u001b[0;36msave_data_to_db\u001b[1;34m(self, data)\u001b[0m\n\u001b[0;32m    221\u001b[0m                     \u001b[1;32mif\u001b[0m \u001b[0meach_val\u001b[0m \u001b[1;33m==\u001b[0m\u001b[1;34m''\u001b[0m\u001b[1;33m:\u001b[0m\u001b[1;33m\u001b[0m\u001b[0m\n\u001b[0;32m    222\u001b[0m                       \u001b[0meach_val\u001b[0m \u001b[1;33m=\u001b[0m \u001b[1;34m'null'\u001b[0m\u001b[1;33m\u001b[0m\u001b[0m\n\u001b[1;32m--> 223\u001b[1;33m                     \u001b[0mvalues\u001b[0m\u001b[1;33m.\u001b[0m\u001b[0mappend\u001b[0m\u001b[1;33m(\u001b[0m\u001b[0mlemmatize_question\u001b[0m\u001b[1;33m(\u001b[0m\u001b[0meach_val\u001b[0m\u001b[1;33m.\u001b[0m\u001b[0mlower\u001b[0m\u001b[1;33m(\u001b[0m\u001b[1;33m)\u001b[0m\u001b[1;33m)\u001b[0m\u001b[1;33m)\u001b[0m\u001b[1;33m\u001b[0m\u001b[0m\n\u001b[0m\u001b[0;32m    224\u001b[0m \u001b[1;33m\u001b[0m\u001b[0m\n\u001b[0;32m    225\u001b[0m                 \u001b[0mcur\u001b[0m\u001b[1;33m.\u001b[0m\u001b[0mexecute\u001b[0m\u001b[1;33m(\u001b[0m\u001b[0mprep_statement\u001b[0m\u001b[1;33m,\u001b[0m \u001b[0mvalues\u001b[0m\u001b[1;33m)\u001b[0m\u001b[1;33m\u001b[0m\u001b[0m\n",
        "\u001b[1;32mC:\\Users\\vladimir\\Documents\\GitHub\\Ideas\\Idea\\backend.pyc\u001b[0m in \u001b[0;36mlemmatize_question\u001b[1;34m(text)\u001b[0m\n\u001b[0;32m    144\u001b[0m \u001b[0mlmtzr\u001b[0m \u001b[1;33m=\u001b[0m \u001b[0mWordNetLemmatizer\u001b[0m\u001b[1;33m(\u001b[0m\u001b[1;33m)\u001b[0m\u001b[1;33m\u001b[0m\u001b[0m\n\u001b[0;32m    145\u001b[0m \u001b[1;32mdef\u001b[0m \u001b[0mlemmatize_question\u001b[0m\u001b[1;33m(\u001b[0m\u001b[0mtext\u001b[0m\u001b[1;33m)\u001b[0m\u001b[1;33m:\u001b[0m\u001b[1;33m\u001b[0m\u001b[0m\n\u001b[1;32m--> 146\u001b[1;33m         \u001b[1;32mreturn\u001b[0m  \u001b[1;34m' '\u001b[0m\u001b[1;33m.\u001b[0m\u001b[0mjoin\u001b[0m\u001b[1;33m(\u001b[0m\u001b[1;33m[\u001b[0m \u001b[0mlmtzr\u001b[0m\u001b[1;33m.\u001b[0m\u001b[0mlemmatize\u001b[0m\u001b[1;33m(\u001b[0m\u001b[0meach\u001b[0m\u001b[1;33m)\u001b[0m \u001b[1;32mfor\u001b[0m \u001b[0meach\u001b[0m \u001b[1;32min\u001b[0m \u001b[0mnltk\u001b[0m\u001b[1;33m.\u001b[0m\u001b[0mword_tokenize\u001b[0m\u001b[1;33m(\u001b[0m\u001b[0mtext\u001b[0m\u001b[1;33m)\u001b[0m \u001b[1;33m]\u001b[0m\u001b[1;33m)\u001b[0m\u001b[1;33m\u001b[0m\u001b[0m\n\u001b[0m\u001b[0;32m    147\u001b[0m \u001b[1;33m\u001b[0m\u001b[0m\n\u001b[0;32m    148\u001b[0m \u001b[1;32mclass\u001b[0m \u001b[0mDataManager\u001b[0m\u001b[1;33m(\u001b[0m\u001b[1;33m)\u001b[0m\u001b[1;33m:\u001b[0m\u001b[1;33m\u001b[0m\u001b[0m\n",
        "\u001b[1;32mC:\\Users\\vladimir\\Anaconda\\lib\\site-packages\\nltk\\stem\\wordnet.pyc\u001b[0m in \u001b[0;36mlemmatize\u001b[1;34m(self, word, pos)\u001b[0m\n\u001b[0;32m     35\u001b[0m \u001b[1;33m\u001b[0m\u001b[0m\n\u001b[0;32m     36\u001b[0m     \u001b[1;32mdef\u001b[0m \u001b[0mlemmatize\u001b[0m\u001b[1;33m(\u001b[0m\u001b[0mself\u001b[0m\u001b[1;33m,\u001b[0m \u001b[0mword\u001b[0m\u001b[1;33m,\u001b[0m \u001b[0mpos\u001b[0m\u001b[1;33m=\u001b[0m\u001b[0mNOUN\u001b[0m\u001b[1;33m)\u001b[0m\u001b[1;33m:\u001b[0m\u001b[1;33m\u001b[0m\u001b[0m\n\u001b[1;32m---> 37\u001b[1;33m         \u001b[0mlemmas\u001b[0m \u001b[1;33m=\u001b[0m \u001b[0mwordnet\u001b[0m\u001b[1;33m.\u001b[0m\u001b[0m_morphy\u001b[0m\u001b[1;33m(\u001b[0m\u001b[0mword\u001b[0m\u001b[1;33m,\u001b[0m \u001b[0mpos\u001b[0m\u001b[1;33m)\u001b[0m\u001b[1;33m\u001b[0m\u001b[0m\n\u001b[0m\u001b[0;32m     38\u001b[0m         \u001b[1;32mreturn\u001b[0m \u001b[0mmin\u001b[0m\u001b[1;33m(\u001b[0m\u001b[0mlemmas\u001b[0m\u001b[1;33m,\u001b[0m \u001b[0mkey\u001b[0m\u001b[1;33m=\u001b[0m\u001b[0mlen\u001b[0m\u001b[1;33m)\u001b[0m \u001b[1;32mif\u001b[0m \u001b[0mlemmas\u001b[0m \u001b[1;32melse\u001b[0m \u001b[0mword\u001b[0m\u001b[1;33m\u001b[0m\u001b[0m\n\u001b[0;32m     39\u001b[0m \u001b[1;33m\u001b[0m\u001b[0m\n",
        "\u001b[1;32mC:\\Users\\vladimir\\Anaconda\\lib\\site-packages\\nltk\\corpus\\reader\\wordnet.pyc\u001b[0m in \u001b[0;36m_morphy\u001b[1;34m(self, form, pos)\u001b[0m\n\u001b[0;32m   1402\u001b[0m \u001b[1;33m\u001b[0m\u001b[0m\n\u001b[0;32m   1403\u001b[0m         \u001b[1;31m# 1. Apply rules once to the input to get y1, y2, y3, etc.\u001b[0m\u001b[1;33m\u001b[0m\u001b[1;33m\u001b[0m\u001b[0m\n\u001b[1;32m-> 1404\u001b[1;33m         \u001b[0mforms\u001b[0m \u001b[1;33m=\u001b[0m \u001b[0mapply_rules\u001b[0m\u001b[1;33m(\u001b[0m\u001b[1;33m[\u001b[0m\u001b[0mform\u001b[0m\u001b[1;33m]\u001b[0m\u001b[1;33m)\u001b[0m\u001b[1;33m\u001b[0m\u001b[0m\n\u001b[0m\u001b[0;32m   1405\u001b[0m \u001b[1;33m\u001b[0m\u001b[0m\n\u001b[0;32m   1406\u001b[0m         \u001b[1;31m# 2. Return all that are in the database (and check the original too)\u001b[0m\u001b[1;33m\u001b[0m\u001b[1;33m\u001b[0m\u001b[0m\n",
        "\u001b[1;32mC:\\Users\\vladimir\\Anaconda\\lib\\site-packages\\nltk\\corpus\\reader\\wordnet.pyc\u001b[0m in \u001b[0;36mapply_rules\u001b[1;34m(forms)\u001b[0m\n\u001b[0;32m   1381\u001b[0m \u001b[1;33m\u001b[0m\u001b[0m\n\u001b[0;32m   1382\u001b[0m         \u001b[1;32mdef\u001b[0m \u001b[0mapply_rules\u001b[0m\u001b[1;33m(\u001b[0m\u001b[0mforms\u001b[0m\u001b[1;33m)\u001b[0m\u001b[1;33m:\u001b[0m\u001b[1;33m\u001b[0m\u001b[0m\n\u001b[1;32m-> 1383\u001b[1;33m             return [form[:-len(old)] + new\n\u001b[0m\u001b[0;32m   1384\u001b[0m                     \u001b[1;32mfor\u001b[0m \u001b[0mform\u001b[0m \u001b[1;32min\u001b[0m \u001b[0mforms\u001b[0m\u001b[1;33m\u001b[0m\u001b[0m\n\u001b[0;32m   1385\u001b[0m                     \u001b[1;32mfor\u001b[0m \u001b[0mold\u001b[0m\u001b[1;33m,\u001b[0m \u001b[0mnew\u001b[0m \u001b[1;32min\u001b[0m \u001b[0msubstitutions\u001b[0m\u001b[1;33m\u001b[0m\u001b[0m\n",
        "\u001b[1;31mKeyboardInterrupt\u001b[0m: "
       ]
      },
      {
       "output_type": "stream",
       "stream": "stdout",
       "text": [
        "\n",
        "Table created.\n",
        "\n",
        "Inserting data into database...\n",
        "\n",
        "Querying the total amount of rows imported"
       ]
      },
      {
       "output_type": "stream",
       "stream": "stdout",
       "text": [
        "\n",
        "Columns: "
       ]
      },
      {
       "output_type": "stream",
       "stream": "stdout",
       "text": [
        " ['*']\n",
        "Conditions:  []\n",
        "Limit: 0\n",
        "Total amount of questions imported 63523\n"
       ]
      }
     ],
     "prompt_number": 10
    },
    {
     "cell_type": "heading",
     "level": 1,
     "metadata": {},
     "source": [
      "Custom Queries and Data subsetting\n"
     ]
    },
    {
     "cell_type": "markdown",
     "metadata": {},
     "source": [
      "Since the initial loaded data contains a lot of colums, you may want to specisy a subset of data you are interested in. This would greatly facilitate analysis and improve the software performance. Furthermore, you may or may not want to see some data displayed on the screen. Custom queries are build in a way that simplifies data navigation, they provide all the necessary functionality for analyzing the available dataset."
     ]
    },
    {
     "cell_type": "heading",
     "level": 2,
     "metadata": {},
     "source": [
      "Getting the information about available colums "
     ]
    },
    {
     "cell_type": "markdown",
     "metadata": {},
     "source": [
      "Lets have a look at columns that we have found in our input dataset. More in-depth analysis would be covered in the next chapter. The information here is just to show what data we are operating with."
     ]
    },
    {
     "cell_type": "code",
     "collapsed": false,
     "input": [
      "manager.get_python_columns(data)"
     ],
     "language": "python",
     "metadata": {},
     "outputs": [
      {
       "metadata": {},
       "output_type": "pyout",
       "prompt_number": 2,
       "text": [
        "['filename',\n",
        " 'question_number',\n",
        " 'initials',\n",
        " 'email',\n",
        " 'location',\n",
        " 'duration',\n",
        " 'format',\n",
        " 'questioner',\n",
        " 'question_type',\n",
        " 'difficulty',\n",
        " 'asked_at',\n",
        " 'question_date',\n",
        " 'question_time',\n",
        " 'question_half_hour',\n",
        " 'question_weekday',\n",
        " 'added_at_gmt',\n",
        " 'tags',\n",
        " 'site',\n",
        " 'account',\n",
        " 'question',\n",
        " 'answer']"
       ]
      }
     ],
     "prompt_number": 2
    },
    {
     "cell_type": "heading",
     "level": 2,
     "metadata": {},
     "source": [
      "Creating a custom query and using subset functionality"
     ]
    },
    {
     "cell_type": "markdown",
     "metadata": {},
     "source": [
      "This is where custom queries and data subsets can help. Lets say we are only interested in \"What are the questions that don't have an answer inside the database?\". In order to do that we create a new custom query:"
     ]
    },
    {
     "cell_type": "code",
     "collapsed": false,
     "input": [
      "q = backend.QueryBuilder()"
     ],
     "language": "python",
     "metadata": {},
     "outputs": [],
     "prompt_number": 3
    },
    {
     "cell_type": "markdown",
     "metadata": {},
     "source": [
      "Currently the query is empty and doesn't contain any information. Lets specify the columns that we are interested in and conditions. The only condition we have is to make sure that the answer is 'empty' or 'null' in programming terms. We may set a limit to make sure we don't get way too many results. Default is 10, but you may experiment with the amount that you are most comfortable with."
     ]
    },
    {
     "cell_type": "code",
     "collapsed": false,
     "input": [
      "q.set_columns( ['Question', 'Email', 'Answer'] )\n",
      "q.set_condition('Answer', 'null')\n",
      "q.set_condition('AND Question NOT', 'null')\n",
      "q.limit = 25"
     ],
     "language": "python",
     "metadata": {},
     "outputs": [],
     "prompt_number": 4
    },
    {
     "cell_type": "markdown",
     "metadata": {},
     "source": [
      "The only thing that is left is to execute the query and check its result:"
     ]
    },
    {
     "cell_type": "code",
     "collapsed": false,
     "input": [
      "q.execute(con)"
     ],
     "language": "python",
     "metadata": {},
     "outputs": [
      {
       "output_type": "stream",
       "stream": "stdout",
       "text": [
        "Columns:  ['Question', 'Email', 'Answer']\n",
        "Conditions:  [('Answer', 'null'), ('AND Question NOT', 'null')]\n",
        "Limit: 25\n"
       ]
      },
      {
       "metadata": {},
       "output_type": "pyout",
       "prompt_number": 5,
       "text": [
        "[('magazine', 'accessgimlet @ gmail.com', 'null'),\n",
        " ('restroom', 'accessgimlet @ gmail.com', 'null'),\n",
        " ('looking for a book about lincoln and wanted to request my beloved world by sotomayor',\n",
        "  'kinglibraryreference @ gmail.com',\n",
        "  'null'),\n",
        " ('where buy print card', 'kinglibraryreference @ gmail.com', 'null'),\n",
        " ('newspaper san jose mercury news', 'accessgimlet @ gmail.com', 'null'),\n",
        " ('how send to print', 'kinglibraryreference @ gmail.com', 'null'),\n",
        " ('government publication', 'accessgimlet @ gmail.com', 'null'),\n",
        " ('book', 'accessgimlet @ gmail.com', 'null'),\n",
        " ('ll 03', 'accessgimlet @ gmail.com', 'null'),\n",
        " ('1980s copy of good housekeeping magazine',\n",
        "  'kinglibraryreference @ gmail.com',\n",
        "  'null'),\n",
        " ('study room', 'accessgimlet @ gmail.com', 'null'),\n",
        " ('how sign on the computer', 'kinglibraryreference @ gmail.com', 'null'),\n",
        " ('study room', 'accessgimlet @ gmail.com', 'null'),\n",
        " ('computer assistance', 'accessgimlet @ gmail.com', 'null'),\n",
        " ('helping attach a file to an online resume',\n",
        "  'kinglibraryreference @ gmail.com',\n",
        "  'null'),\n",
        " ('wanted to put a hold on a book about smoking/search for one',\n",
        "  'kinglibraryreference @ gmail.com',\n",
        "  'null'),\n",
        " ('nub : the true story of a dog', 'angie.miraflor @ sjlibrary.org', 'null'),\n",
        " ('advisory that ppl will be coming downstairs to film ( from 3rd floor )',\n",
        "  'kinglibraryreference @ gmail.com',\n",
        "  'null'),\n",
        " (\"woman 's indian captivity narrative\",\n",
        "  'kinglibraryreference @ gmail.com',\n",
        "  'null'),\n",
        " (\"title search : grave matter : excavating california 's buried past\",\n",
        "  'kinglibraryreference @ gmail.com',\n",
        "  'null'),\n",
        " ('list of used car dealer in san jose',\n",
        "  'kinglibraryreference @ gmail.com',\n",
        "  'null'),\n",
        " ('rm 213', 'kinglibraryreference @ gmail.com', 'null'),\n",
        " ('biography', 'angie.miraflor @ sjlibrary.org', 'null'),\n",
        " ('need phone number for daily donut on cunnyvale/saratoga',\n",
        "  'kinglibraryreference @ gmail.com',\n",
        "  'null'),\n",
        " ('picture book where', 'angie.miraflor @ sjlibrary.org', 'null')]"
       ]
      }
     ],
     "prompt_number": 5
    },
    {
     "cell_type": "markdown",
     "metadata": {},
     "source": [
      "As a matter of fact the beauty of this approach lies withis the notion of improving your search. You can easily add new conditions to the existing query to narrow results even further. Lets assume that we are only interested in questions that were asked over the phone. Notice that each time you execute a query it prints the values that were set during that particular execution. "
     ]
    },
    {
     "cell_type": "code",
     "collapsed": false,
     "input": [
      "q.set_columns( ['Question', 'Answer', 'Format'] )\n",
      "q.set_condition('AND Format', 'Phone')\n",
      "q.execute(con)"
     ],
     "language": "python",
     "metadata": {},
     "outputs": [
      {
       "output_type": "stream",
       "stream": "stdout",
       "text": [
        "Columns:  ['Question', 'Answer', 'Format']\n",
        "Conditions:  [('Answer', 'null'), ('AND Question NOT', 'null'), ('AND Format', 'Phone')]\n",
        "Limit: 25\n"
       ]
      },
      {
       "metadata": {},
       "output_type": "pyout",
       "prompt_number": 6,
       "text": [
        "[('looking for a book about lincoln and wanted to request my beloved world by sotomayor',\n",
        "  'null',\n",
        "  'phone ( remote )'),\n",
        " ('1980s copy of good housekeeping magazine', 'null', 'phone ( remote )'),\n",
        " (\"woman 's indian captivity narrative\", 'null', 'phone ( remote )'),\n",
        " ('need phone number for daily donut on cunnyvale/saratoga',\n",
        "  'null',\n",
        "  'phone ( remote )'),\n",
        " ('1800 for amtrak', 'null', 'phone ( remote )'),\n",
        " ('definition of aristocracy , plutocracy and kleptocracy',\n",
        "  'null',\n",
        "  'phone ( remote )'),\n",
        " ('what type of service do you have for ebook support ?',\n",
        "  'null',\n",
        "  'phone ( remote )'),\n",
        " ('person started to ask a question about a phone number lookup but decided to call back .',\n",
        "  'null',\n",
        "  'phone ( remote )'),\n",
        " ('i have 2 textbook for you to lookup .', 'null', 'phone ( remote )'),\n",
        " ('patron need information on coursework from previous sjsu catalog copied and sent to her',\n",
        "  'null',\n",
        "  'phone ( remote )'),\n",
        " ('understanding and using english grammar', 'null', 'phone ( remote )'),\n",
        " ('fundamental of english grammar', 'null', 'phone ( remote )'),\n",
        " ('copyediting & proofreading for dummy', 'null', 'phone ( remote )'),\n",
        " ('powerful proofreading skill', 'null', 'phone ( remote )'),\n",
        " ('longman dictionary of american english', 'null', 'phone ( remote )'),\n",
        " ('step by step word 2010', 'null', 'phone ( remote )'),\n",
        " ('where is 2-52', 'null', 'phone ( remote )'),\n",
        " ('war of the sex', 'null', 'phone ( remote )'),\n",
        " ('beyond human nature', 'null', 'phone ( remote )'),\n",
        " ('sheriff deputy', 'null', 'phone ( remote )'),\n",
        " ('wanted to place hold on two book', 'null', 'phone ( remote )'),\n",
        " ('what time is it', 'null', 'phone ( remote )'),\n",
        " ('when do you have tax help ?', 'null', 'phone ( remote )'),\n",
        " ('stubhub phone number', 'null', 'phone ( remote )'),\n",
        " ('when we close today ?', 'null', 'phone ( remote )')]"
       ]
      }
     ],
     "prompt_number": 6
    },
    {
     "cell_type": "markdown",
     "metadata": {},
     "source": [
      "What a great example of how small amount of data can still be overwhelming. This is a perfect place to show the 'display' function. It allows you to specify which particular information you are interested in, even though you may construct a very massive and complicated query. We are only interested in the questions themselves right now, so lets specify 'Question' as the only display field."
     ]
    },
    {
     "cell_type": "code",
     "collapsed": false,
     "input": [
      "q.display(['Question'])"
     ],
     "language": "python",
     "metadata": {},
     "outputs": [
      {
       "output_type": "stream",
       "stream": "stdout",
       "text": [
        "looking for a book about lincoln and wanted to request my beloved world by sotomayor\n",
        "1980s copy of good housekeeping magazine\n",
        "woman 's indian captivity narrative\n",
        "need phone number for daily donut on cunnyvale/saratoga\n",
        "1800 for amtrak\n",
        "definition of aristocracy , plutocracy and kleptocracy\n",
        "what type of service do you have for ebook support ?\n",
        "person started to ask a question about a phone number lookup but decided to call back .\n",
        "i have 2 textbook for you to lookup .\n",
        "patron need information on coursework from previous sjsu catalog copied and sent to her\n",
        "understanding and using english grammar\n",
        "fundamental of english grammar\n",
        "copyediting & proofreading for dummy\n",
        "powerful proofreading skill\n",
        "longman dictionary of american english\n",
        "step by step word 2010\n",
        "where is 2-52\n",
        "war of the sex\n",
        "beyond human nature\n",
        "sheriff deputy\n",
        "wanted to place hold on two book\n",
        "what time is it\n",
        "when do you have tax help ?\n",
        "stubhub phone number\n",
        "when we close today ?\n"
       ]
      }
     ],
     "prompt_number": 7
    },
    {
     "cell_type": "markdown",
     "metadata": {},
     "source": [
      "After a quick look over the returned dataset one may notice that people often ask if the book is currently available. That seems like a reasonable question to me, but what if we want to know what are the questions that are not about books, but about magazines and periodicals? In order to do that we need to add more conditions to our query. "
     ]
    },
    {
     "cell_type": "code",
     "collapsed": false,
     "input": [
      "q.set_columns( ['Answer', 'Email', 'Question', 'Format'] )\n",
      "q.set_condition('AND Question NOT', 'book')\n",
      "q.set_condition('AND Question', 'magazine')\n",
      "q.limit = 25\n",
      "q.execute(con)\n",
      "q.display(['Question'])"
     ],
     "language": "python",
     "metadata": {},
     "outputs": [
      {
       "output_type": "stream",
       "stream": "stdout",
       "text": [
        "Columns:  ['Answer', 'Email', 'Question', 'Format']\n",
        "Conditions:  [('Answer', 'null'), ('AND Question NOT', 'null'), ('AND Format', 'Phone'), ('AND Question NOT', 'book'), ('AND Question', 'magazine')]\n",
        "Limit: 25\n",
        "1980s copy of good housekeeping magazine\n",
        "life magazine\n",
        "life magazine from september 1942\n",
        "do you carry a magazine called gramophone ?\n",
        "hi , i am looking for an article from the jstor magazine. here 's the information 2005 vol:120 iss:1 pg:50\n",
        "magazine\n",
        "looking for magazine\n",
        "science magazine 1987 vol 236 pp. 280-285\n"
       ]
      }
     ],
     "prompt_number": 8
    }
   ],
   "metadata": {}
  }
 ]
}