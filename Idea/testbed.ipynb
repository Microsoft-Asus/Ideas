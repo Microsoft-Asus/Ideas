{
 "metadata": {
  "name": ""
 },
 "nbformat": 3,
 "nbformat_minor": 0,
 "worksheets": [
  {
   "cells": [
    {
     "cell_type": "code",
     "collapsed": false,
     "input": [
      "from notebook import execute_notebook"
     ],
     "language": "python",
     "metadata": {},
     "outputs": [],
     "prompt_number": 1
    },
    {
     "cell_type": "code",
     "collapsed": false,
     "input": [
      "execute_notebook(\"IDEAS_Initialize.ipynb\")"
     ],
     "language": "python",
     "metadata": {},
     "outputs": [
      {
       "output_type": "stream",
       "stream": "stdout",
       "text": [
        "Populating the interactive namespace from numpy and matplotlib\n"
       ]
      },
      {
       "metadata": {},
       "output_type": "pyout",
       "prompt_number": 2,
       "text": [
        "<module 'backend' from 'backend.pyc'>"
       ]
      },
      {
       "metadata": {},
       "output_type": "pyout",
       "prompt_number": 2,
       "text": [
        "<module 'nltk' from 'C:\\Users\\vladimir\\Anaconda\\lib\\site-packages\\nltk\\__init__.pyc'>"
       ]
      },
      {
       "output_type": "stream",
       "stream": "stdout",
       "text": [
        "\n",
        "Reading input data files from C:\\Users\\vladimir\\Documents\\GitHub\\Ideas\\Idea\\dataset\n",
        "Found GimletDownload2012_07.csv ... 2595  records imported\n",
        "Found GimletDownload2012_08.csv ... 3672  records imported\n",
        "Found GimletDownload2012_09.csv ... 3817  records imported\n",
        "Found GimletDownload2012_10.csv ... "
       ]
      },
      {
       "output_type": "stream",
       "stream": "stdout",
       "text": [
        "13595  records imported\n",
        "Found GimletDownload2012_11.csv ... "
       ]
      },
      {
       "output_type": "stream",
       "stream": "stdout",
       "text": [
        "14737  records imported\n",
        "Found GimletDownload2012_12.csv ... "
       ]
      },
      {
       "output_type": "stream",
       "stream": "stdout",
       "text": [
        "9696  records imported\n",
        "Found GimletDownload2013_01.csv ... 5820  records imported\n",
        "Found GimletDownload2013_02.csv ... "
       ]
      },
      {
       "output_type": "stream",
       "stream": "stdout",
       "text": [
        "9599  records imported\n",
        "\n",
        "Creating database layout...\n",
        "Table created.\n",
        "\n",
        "Inserting data into database...\n",
        "Done."
       ]
      },
      {
       "output_type": "stream",
       "stream": "stdout",
       "text": [
        "\n",
        "\n",
        "Querying the total amount of rows imported\n",
        "Columns: "
       ]
      },
      {
       "output_type": "stream",
       "stream": "stdout",
       "text": [
        " ['*']\n",
        "Conditions:  []\n",
        "Limit: 0\n",
        "Total amount of questions imported 63523\n"
       ]
      }
     ],
     "prompt_number": 2
    },
    {
     "cell_type": "code",
     "collapsed": false,
     "input": [
      "execute_notebook(\"IDEAS_Preprocessing_data.ipynb\")"
     ],
     "language": "python",
     "metadata": {},
     "outputs": [],
     "prompt_number": 3
    },
    {
     "cell_type": "code",
     "collapsed": false,
     "input": [
      "textbody = analyzer.db_get_full_text(con)"
     ],
     "language": "python",
     "metadata": {},
     "outputs": [
      {
       "output_type": "stream",
       "stream": "stdout",
       "text": [
        "Analyzing questions text-body... Done.\n"
       ]
      }
     ],
     "prompt_number": 17
    },
    {
     "cell_type": "code",
     "collapsed": false,
     "input": [
      "tokens = nltk.word_tokenize(textbody)"
     ],
     "language": "python",
     "metadata": {},
     "outputs": [],
     "prompt_number": 29
    },
    {
     "cell_type": "code",
     "collapsed": false,
     "input": [
      "\n",
      "bigram_measures = nltk.collocations.BigramAssocMeasures()\n",
      "trigram_measures = nltk.collocations.TrigramAssocMeasures()\n",
      "finder = nltk.collocations.BigramCollocationFinder.from_words(tokens)\n",
      "finder.apply_freq_filter(50)\n",
      "finder.nbest(bigram_measures.pmi, 100)  "
     ],
     "language": "python",
     "metadata": {},
     "outputs": [
      {
       "metadata": {},
       "output_type": "pyout",
       "prompt_number": 40,
       "text": [
        "[('san', 'francisco'),\n",
        " ('santa', 'clara'),\n",
        " ('can', 'not'),\n",
        " ('mercury', 'news'),\n",
        " ('full', 'text'),\n",
        " ('flash', 'drive'),\n",
        " ('hear', 'mezzanine'),\n",
        " ('hear', 'mezz'),\n",
        " ('course', 'reserves'),\n",
        " ('microfiche', 'microfilm'),\n",
        " ('add', 'value'),\n",
        " ('1', 'week'),\n",
        " ('reset', 'pin'),\n",
        " ('add', 'money'),\n",
        " ('scratch', 'paper'),\n",
        " ('sanjose', 'mercury'),\n",
        " ('pay', 'fines'),\n",
        " ('4', 'hour'),\n",
        " ('would', 'like'),\n",
        " ('2nd', 'floor'),\n",
        " ('study', 'rooms'),\n",
        " ('somebody', 'needs'),\n",
        " ('usb', 'drive'),\n",
        " ('close', 'today'),\n",
        " ('3rd', 'floor'),\n",
        " ('lost', 'found'),\n",
        " ('hour', 'laptop'),\n",
        " ('call', 'number'),\n",
        " ('hour', 'ipad'),\n",
        " ('microfilm', 'machine'),\n",
        " ('checkout', '4'),\n",
        " ('tower', 'card'),\n",
        " ('apply', 'librarycard'),\n",
        " ('copy', 'machine'),\n",
        " ('room', '225'),\n",
        " ('course', 'reserve'),\n",
        " ('lawyers', 'library'),\n",
        " ('study', 'room'),\n",
        " ('time', 'close'),\n",
        " ('room', '213'),\n",
        " ('time', 'extension'),\n",
        " ('dont', 'know'),\n",
        " ('wanted', 'know'),\n",
        " ('customer', 'asked'),\n",
        " ('4', 'hours'),\n",
        " ('king', 'library'),\n",
        " ('laptop', 'checkout'),\n",
        " ('check', '4'),\n",
        " ('help', 'finding'),\n",
        " ('reserve', 'study'),\n",
        " ('sanjosestateuniversity', 'student'),\n",
        " ('library', 'close'),\n",
        " ('research', 'paper'),\n",
        " ('customer', 'wanted'),\n",
        " ('laptop', 'check'),\n",
        " ('patron', 'asked'),\n",
        " ('print', 'job'),\n",
        " ('new', 'card'),\n",
        " ('childrens', 'room'),\n",
        " ('patron', 'wanted'),\n",
        " ('computer', 'assistance'),\n",
        " ('customer', 'needed'),\n",
        " ('patron', 'needed'),\n",
        " ('cant', 'find'),\n",
        " ('needed', 'help'),\n",
        " ('laptop', '4'),\n",
        " ('trying', 'find'),\n",
        " ('get', 'librarycard'),\n",
        " ('librarycard', 'number'),\n",
        " ('reserve', 'computer'),\n",
        " ('print', 'usb'),\n",
        " ('looking', 'specific'),\n",
        " ('im', 'looking'),\n",
        " ('needs', 'help'),\n",
        " ('need', 'help'),\n",
        " ('log', 'computer'),\n",
        " ('need', 'information'),\n",
        " ('help', 'find'),\n",
        " ('print', 'card'),\n",
        " ('check', 'laptop'),\n",
        " ('return', 'books'),\n",
        " ('patron', 'looking'),\n",
        " ('request', 'book'),\n",
        " ('time', 'library'),\n",
        " ('find', 'book'),\n",
        " ('computer', 'time'),\n",
        " ('help', 'printing'),\n",
        " ('find', 'articles'),\n",
        " ('customer', 'looking'),\n",
        " ('use', 'computer'),\n",
        " ('looking', 'book'),\n",
        " ('student', 'looking'),\n",
        " ('need', 'find'),\n",
        " ('find', 'books'),\n",
        " ('computer', 'use'),\n",
        " ('looking', 'books'),\n",
        " ('books', 'articles'),\n",
        " ('check', 'books'),\n",
        " ('need', 'books'),\n",
        " ('get', 'computer')]"
       ]
      }
     ],
     "prompt_number": 40
    },
    {
     "cell_type": "code",
     "collapsed": false,
     "input": [
      "tokens.collocations()"
     ],
     "language": "python",
     "metadata": {},
     "outputs": [
      {
       "metadata": {},
       "output_type": "display_data",
       "png": "[encoded data removed]",
       "text": [
        "<matplotlib.figure.Figure at 0x21482da0>"
       ]
      }
     ]
    },
    {
     "cell_type": "code",
     "collapsed": false,
     "input": [],
     "language": "python",
     "metadata": {},
     "outputs": []
    },
    {
     "cell_type": "code",
     "collapsed": false,
     "input": [],
     "language": "python",
     "metadata": {},
     "outputs": []
    },
    {
     "cell_type": "code",
     "collapsed": false,
     "input": [
      "bigrams = nltk.bigrams(tokens)\n",
      "cfd = nltk.ConditionalFreqDist(bigrams)\n",
      "cfdist = cfd\n",
      "cfdist.plot()"
     ],
     "language": "python",
     "metadata": {},
     "outputs": []
    },
    {
     "cell_type": "code",
     "collapsed": false,
     "input": [
      "\n",
      "\n",
      "\n",
      "\n",
      "\n",
      "text = analyzer.db_get_full_text(con)   # this takes into account every question that is loaded\n",
      "bigram_measures = nltk.collocations.BigramAssocMeasures()\n",
      "finder = nltk.collocations.BigramCollocationFinder.from_words(text)\n",
      "finder.apply_freq_filter(3)\n",
      "finder.apply_word_filter(filter_stops)\n",
      "matches1 = finder.nbest(bigram_measures.pmi, 20)"
     ],
     "language": "python",
     "metadata": {},
     "outputs": []
    },
    {
     "cell_type": "code",
     "collapsed": false,
     "input": [
      "q = backend.QueryBuilder()                    # Create a new custom query\n",
      "q.set_columns(['Question'])         # we are interested in question column\n",
      "q.set_condition('Question ', 'sanjose')       # Question should not be empty\n",
      "q.limit = 5                                  # allows us to take out the result limitations \n",
      "q.execute(con)"
     ],
     "language": "python",
     "metadata": {},
     "outputs": []
    },
    {
     "cell_type": "code",
     "collapsed": false,
     "input": [
      "q = backend.QueryBuilder()                    # Create a new custom query\n",
      "q.set_columns(['Question'])                   # we are interested in question column\n",
      "q.set_condition('Question', 'number')         # Question should not be empty\n",
      "\n",
      "#q.show = False                                # not displaying the result of this query on screen \n",
      "q.limit = 25                                   # allows us to take out the result limitations \n",
      "q.execute(con)\n",
      "#mytext = analyzer.get_text( q.execute(con) )  # read the text-body from results \n",
      "#analyzer.get_most_frequent_words(mytext, 25)  # Print most frequent words "
     ],
     "language": "python",
     "metadata": {},
     "outputs": []
    },
    {
     "cell_type": "code",
     "collapsed": false,
     "input": [],
     "language": "python",
     "metadata": {},
     "outputs": []
    }
   ],
   "metadata": {}
  }
 ]
}