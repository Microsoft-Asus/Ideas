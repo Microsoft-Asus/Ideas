{
 "metadata": {
  "name": ""
 },
 "nbformat": 3,
 "nbformat_minor": 0,
 "worksheets": [
  {
   "cells": [
    {
     "cell_type": "heading",
     "level": 1,
     "metadata": {},
     "source": [
      "Importing other notebooks"
     ]
    },
    {
     "cell_type": "markdown",
     "metadata": {},
     "source": [
      "The following code will take care of all the importing that is necessary for executing other peoples notebooks or part of them in your own notes. It may be wise to split most common operations into separate files in order to facilitate further usage of the information. This is the only code you need in order to start your own fully separated work."
     ]
    },
    {
     "cell_type": "code",
     "collapsed": false,
     "input": [
      "from notebook import execute_notebook"
     ],
     "language": "python",
     "metadata": {},
     "outputs": [],
     "prompt_number": 1
    },
    {
     "cell_type": "heading",
     "level": 1,
     "metadata": {},
     "source": [
      "Example usage:"
     ]
    },
    {
     "cell_type": "markdown",
     "metadata": {},
     "source": [
      "The following code would invoke the notebook that is responsible for loading the dataset, it would load all the modules IDEAS needs for basic functionality. You would probably want it in every custom notebook that you are going to create. "
     ]
    },
    {
     "cell_type": "code",
     "collapsed": false,
     "input": [
      "execute_notebook(\"IDEAS_Initialize.ipynb\")"
     ],
     "language": "python",
     "metadata": {},
     "outputs": [
      {
       "output_type": "stream",
       "stream": "stdout",
       "text": [
        "Populating the interactive namespace from numpy and matplotlib\n"
       ]
      },
      {
       "metadata": {},
       "output_type": "pyout",
       "prompt_number": 2,
       "text": [
        "<module 'backend' from 'backend.pyc'>"
       ]
      },
      {
       "metadata": {},
       "output_type": "pyout",
       "prompt_number": 2,
       "text": [
        "<module 'nltk' from 'C:\\Users\\vladimir\\Anaconda\\lib\\site-packages\\nltk\\__init__.pyc'>"
       ]
      },
      {
       "output_type": "stream",
       "stream": "stdout",
       "text": [
        "\n",
        "Reading input data files from C:\\Users\\vladimir\\Documents\\GitHub\\Ideas\\Idea\\dataset\n",
        "Found GimletDownload2012_07.csv ... 2595  records imported\n",
        "Found GimletDownload2012_08.csv ... 3672  records imported\n",
        "Found GimletDownload2012_09.csv ... 3817  records imported\n",
        "Found GimletDownload2012_10.csv ... "
       ]
      },
      {
       "output_type": "stream",
       "stream": "stdout",
       "text": [
        "13595  records imported\n",
        "Found GimletDownload2012_11.csv ... "
       ]
      },
      {
       "output_type": "stream",
       "stream": "stdout",
       "text": [
        "14737  records imported\n",
        "Found GimletDownload2012_12.csv ... "
       ]
      },
      {
       "output_type": "stream",
       "stream": "stdout",
       "text": [
        "9696  records imported\n",
        "Found GimletDownload2013_01.csv ... 5820  records imported\n",
        "Found GimletDownload2013_02.csv ... "
       ]
      },
      {
       "output_type": "stream",
       "stream": "stdout",
       "text": [
        "9599  records imported\n",
        "\n",
        "Creating database layout...\n",
        "Table created.\n",
        "\n",
        "Inserting data into database...\n",
        "Done."
       ]
      },
      {
       "output_type": "stream",
       "stream": "stdout",
       "text": [
        "\n",
        "\n",
        "Querying the total amount of rows imported\n",
        "Total amount of questions imported"
       ]
      },
      {
       "output_type": "stream",
       "stream": "stdout",
       "text": [
        " 63523\n"
       ]
      }
     ],
     "prompt_number": 2
    }
   ],
   "metadata": {}
  }
 ]
}